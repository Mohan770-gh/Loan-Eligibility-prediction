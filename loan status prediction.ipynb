{
 "cells": [
  {
   "cell_type": "code",
   "execution_count": 1,
   "id": "5755aa89",
   "metadata": {},
   "outputs": [],
   "source": [
    "import numpy as np\n",
    "import pandas as pd\n",
    "import seaborn as sns\n",
    "import matplotlib.pyplot as plt\n",
    "import warnings\n",
    "warnings.simplefilter(\"ignore\")"
   ]
  },
  {
   "cell_type": "code",
   "execution_count": 2,
   "id": "643282dc",
   "metadata": {},
   "outputs": [
    {
     "data": {
      "text/html": [
       "<div>\n",
       "<style scoped>\n",
       "    .dataframe tbody tr th:only-of-type {\n",
       "        vertical-align: middle;\n",
       "    }\n",
       "\n",
       "    .dataframe tbody tr th {\n",
       "        vertical-align: top;\n",
       "    }\n",
       "\n",
       "    .dataframe thead th {\n",
       "        text-align: right;\n",
       "    }\n",
       "</style>\n",
       "<table border=\"1\" class=\"dataframe\">\n",
       "  <thead>\n",
       "    <tr style=\"text-align: right;\">\n",
       "      <th></th>\n",
       "      <th>Loan_ID</th>\n",
       "      <th>Gender</th>\n",
       "      <th>Married</th>\n",
       "      <th>Dependents</th>\n",
       "      <th>Education</th>\n",
       "      <th>Self_Employed</th>\n",
       "      <th>ApplicantIncome</th>\n",
       "      <th>CoapplicantIncome</th>\n",
       "      <th>LoanAmount</th>\n",
       "      <th>Loan_Amount_Term</th>\n",
       "      <th>Credit_History</th>\n",
       "      <th>Property_Area</th>\n",
       "      <th>Loan_Status</th>\n",
       "    </tr>\n",
       "  </thead>\n",
       "  <tbody>\n",
       "    <tr>\n",
       "      <th>0</th>\n",
       "      <td>LP001002</td>\n",
       "      <td>Male</td>\n",
       "      <td>No</td>\n",
       "      <td>0</td>\n",
       "      <td>Graduate</td>\n",
       "      <td>No</td>\n",
       "      <td>5849</td>\n",
       "      <td>0.0</td>\n",
       "      <td>NaN</td>\n",
       "      <td>360.0</td>\n",
       "      <td>1.0</td>\n",
       "      <td>Urban</td>\n",
       "      <td>Y</td>\n",
       "    </tr>\n",
       "    <tr>\n",
       "      <th>1</th>\n",
       "      <td>LP001003</td>\n",
       "      <td>Male</td>\n",
       "      <td>Yes</td>\n",
       "      <td>1</td>\n",
       "      <td>Graduate</td>\n",
       "      <td>No</td>\n",
       "      <td>4583</td>\n",
       "      <td>1508.0</td>\n",
       "      <td>128.0</td>\n",
       "      <td>360.0</td>\n",
       "      <td>1.0</td>\n",
       "      <td>Rural</td>\n",
       "      <td>N</td>\n",
       "    </tr>\n",
       "    <tr>\n",
       "      <th>2</th>\n",
       "      <td>LP001005</td>\n",
       "      <td>Male</td>\n",
       "      <td>Yes</td>\n",
       "      <td>0</td>\n",
       "      <td>Graduate</td>\n",
       "      <td>Yes</td>\n",
       "      <td>3000</td>\n",
       "      <td>0.0</td>\n",
       "      <td>66.0</td>\n",
       "      <td>360.0</td>\n",
       "      <td>1.0</td>\n",
       "      <td>Urban</td>\n",
       "      <td>Y</td>\n",
       "    </tr>\n",
       "    <tr>\n",
       "      <th>3</th>\n",
       "      <td>LP001006</td>\n",
       "      <td>Male</td>\n",
       "      <td>Yes</td>\n",
       "      <td>0</td>\n",
       "      <td>Not Graduate</td>\n",
       "      <td>No</td>\n",
       "      <td>2583</td>\n",
       "      <td>2358.0</td>\n",
       "      <td>120.0</td>\n",
       "      <td>360.0</td>\n",
       "      <td>1.0</td>\n",
       "      <td>Urban</td>\n",
       "      <td>Y</td>\n",
       "    </tr>\n",
       "    <tr>\n",
       "      <th>4</th>\n",
       "      <td>LP001008</td>\n",
       "      <td>Male</td>\n",
       "      <td>No</td>\n",
       "      <td>0</td>\n",
       "      <td>Graduate</td>\n",
       "      <td>No</td>\n",
       "      <td>6000</td>\n",
       "      <td>0.0</td>\n",
       "      <td>141.0</td>\n",
       "      <td>360.0</td>\n",
       "      <td>1.0</td>\n",
       "      <td>Urban</td>\n",
       "      <td>Y</td>\n",
       "    </tr>\n",
       "    <tr>\n",
       "      <th>...</th>\n",
       "      <td>...</td>\n",
       "      <td>...</td>\n",
       "      <td>...</td>\n",
       "      <td>...</td>\n",
       "      <td>...</td>\n",
       "      <td>...</td>\n",
       "      <td>...</td>\n",
       "      <td>...</td>\n",
       "      <td>...</td>\n",
       "      <td>...</td>\n",
       "      <td>...</td>\n",
       "      <td>...</td>\n",
       "      <td>...</td>\n",
       "    </tr>\n",
       "    <tr>\n",
       "      <th>609</th>\n",
       "      <td>LP002978</td>\n",
       "      <td>Female</td>\n",
       "      <td>No</td>\n",
       "      <td>0</td>\n",
       "      <td>Graduate</td>\n",
       "      <td>No</td>\n",
       "      <td>2900</td>\n",
       "      <td>0.0</td>\n",
       "      <td>71.0</td>\n",
       "      <td>360.0</td>\n",
       "      <td>1.0</td>\n",
       "      <td>Rural</td>\n",
       "      <td>Y</td>\n",
       "    </tr>\n",
       "    <tr>\n",
       "      <th>610</th>\n",
       "      <td>LP002979</td>\n",
       "      <td>Male</td>\n",
       "      <td>Yes</td>\n",
       "      <td>3+</td>\n",
       "      <td>Graduate</td>\n",
       "      <td>No</td>\n",
       "      <td>4106</td>\n",
       "      <td>0.0</td>\n",
       "      <td>40.0</td>\n",
       "      <td>180.0</td>\n",
       "      <td>1.0</td>\n",
       "      <td>Rural</td>\n",
       "      <td>Y</td>\n",
       "    </tr>\n",
       "    <tr>\n",
       "      <th>611</th>\n",
       "      <td>LP002983</td>\n",
       "      <td>Male</td>\n",
       "      <td>Yes</td>\n",
       "      <td>1</td>\n",
       "      <td>Graduate</td>\n",
       "      <td>No</td>\n",
       "      <td>8072</td>\n",
       "      <td>240.0</td>\n",
       "      <td>253.0</td>\n",
       "      <td>360.0</td>\n",
       "      <td>1.0</td>\n",
       "      <td>Urban</td>\n",
       "      <td>Y</td>\n",
       "    </tr>\n",
       "    <tr>\n",
       "      <th>612</th>\n",
       "      <td>LP002984</td>\n",
       "      <td>Male</td>\n",
       "      <td>Yes</td>\n",
       "      <td>2</td>\n",
       "      <td>Graduate</td>\n",
       "      <td>No</td>\n",
       "      <td>7583</td>\n",
       "      <td>0.0</td>\n",
       "      <td>187.0</td>\n",
       "      <td>360.0</td>\n",
       "      <td>1.0</td>\n",
       "      <td>Urban</td>\n",
       "      <td>Y</td>\n",
       "    </tr>\n",
       "    <tr>\n",
       "      <th>613</th>\n",
       "      <td>LP002990</td>\n",
       "      <td>Female</td>\n",
       "      <td>No</td>\n",
       "      <td>0</td>\n",
       "      <td>Graduate</td>\n",
       "      <td>Yes</td>\n",
       "      <td>4583</td>\n",
       "      <td>0.0</td>\n",
       "      <td>133.0</td>\n",
       "      <td>360.0</td>\n",
       "      <td>0.0</td>\n",
       "      <td>Semiurban</td>\n",
       "      <td>N</td>\n",
       "    </tr>\n",
       "  </tbody>\n",
       "</table>\n",
       "<p>614 rows × 13 columns</p>\n",
       "</div>"
      ],
      "text/plain": [
       "      Loan_ID  Gender Married Dependents     Education Self_Employed  \\\n",
       "0    LP001002    Male      No          0      Graduate            No   \n",
       "1    LP001003    Male     Yes          1      Graduate            No   \n",
       "2    LP001005    Male     Yes          0      Graduate           Yes   \n",
       "3    LP001006    Male     Yes          0  Not Graduate            No   \n",
       "4    LP001008    Male      No          0      Graduate            No   \n",
       "..        ...     ...     ...        ...           ...           ...   \n",
       "609  LP002978  Female      No          0      Graduate            No   \n",
       "610  LP002979    Male     Yes         3+      Graduate            No   \n",
       "611  LP002983    Male     Yes          1      Graduate            No   \n",
       "612  LP002984    Male     Yes          2      Graduate            No   \n",
       "613  LP002990  Female      No          0      Graduate           Yes   \n",
       "\n",
       "     ApplicantIncome  CoapplicantIncome  LoanAmount  Loan_Amount_Term  \\\n",
       "0               5849                0.0         NaN             360.0   \n",
       "1               4583             1508.0       128.0             360.0   \n",
       "2               3000                0.0        66.0             360.0   \n",
       "3               2583             2358.0       120.0             360.0   \n",
       "4               6000                0.0       141.0             360.0   \n",
       "..               ...                ...         ...               ...   \n",
       "609             2900                0.0        71.0             360.0   \n",
       "610             4106                0.0        40.0             180.0   \n",
       "611             8072              240.0       253.0             360.0   \n",
       "612             7583                0.0       187.0             360.0   \n",
       "613             4583                0.0       133.0             360.0   \n",
       "\n",
       "     Credit_History Property_Area Loan_Status  \n",
       "0               1.0         Urban           Y  \n",
       "1               1.0         Rural           N  \n",
       "2               1.0         Urban           Y  \n",
       "3               1.0         Urban           Y  \n",
       "4               1.0         Urban           Y  \n",
       "..              ...           ...         ...  \n",
       "609             1.0         Rural           Y  \n",
       "610             1.0         Rural           Y  \n",
       "611             1.0         Urban           Y  \n",
       "612             1.0         Urban           Y  \n",
       "613             0.0     Semiurban           N  \n",
       "\n",
       "[614 rows x 13 columns]"
      ]
     },
     "execution_count": 2,
     "metadata": {},
     "output_type": "execute_result"
    }
   ],
   "source": [
    "df=pd.read_csv(\"LoanData.csv\")\n",
    "df"
   ]
  },
  {
   "cell_type": "code",
   "execution_count": 3,
   "id": "d4d70611",
   "metadata": {},
   "outputs": [
    {
     "name": "stdout",
     "output_type": "stream",
     "text": [
      "<class 'pandas.core.frame.DataFrame'>\n",
      "RangeIndex: 614 entries, 0 to 613\n",
      "Data columns (total 13 columns):\n",
      " #   Column             Non-Null Count  Dtype  \n",
      "---  ------             --------------  -----  \n",
      " 0   Loan_ID            614 non-null    object \n",
      " 1   Gender             601 non-null    object \n",
      " 2   Married            611 non-null    object \n",
      " 3   Dependents         599 non-null    object \n",
      " 4   Education          614 non-null    object \n",
      " 5   Self_Employed      582 non-null    object \n",
      " 6   ApplicantIncome    614 non-null    int64  \n",
      " 7   CoapplicantIncome  614 non-null    float64\n",
      " 8   LoanAmount         592 non-null    float64\n",
      " 9   Loan_Amount_Term   600 non-null    float64\n",
      " 10  Credit_History     564 non-null    float64\n",
      " 11  Property_Area      614 non-null    object \n",
      " 12  Loan_Status        614 non-null    object \n",
      "dtypes: float64(4), int64(1), object(8)\n",
      "memory usage: 62.5+ KB\n"
     ]
    }
   ],
   "source": [
    "df.info()"
   ]
  },
  {
   "cell_type": "code",
   "execution_count": 4,
   "id": "c0c00a31",
   "metadata": {},
   "outputs": [
    {
     "data": {
      "text/plain": [
       "Index(['Loan_ID', 'Gender', 'Married', 'Dependents', 'Education',\n",
       "       'Self_Employed', 'ApplicantIncome', 'CoapplicantIncome', 'LoanAmount',\n",
       "       'Loan_Amount_Term', 'Credit_History', 'Property_Area', 'Loan_Status'],\n",
       "      dtype='object')"
      ]
     },
     "execution_count": 4,
     "metadata": {},
     "output_type": "execute_result"
    }
   ],
   "source": [
    "#lets check the columns present in the data\n",
    "df.columns"
   ]
  },
  {
   "cell_type": "markdown",
   "id": "2ad926ad",
   "metadata": {},
   "source": [
    "- drop loan id because that column is not important"
   ]
  },
  {
   "cell_type": "code",
   "execution_count": 5,
   "id": "528ef10f",
   "metadata": {},
   "outputs": [
    {
     "data": {
      "text/plain": [
       "614"
      ]
     },
     "execution_count": 5,
     "metadata": {},
     "output_type": "execute_result"
    }
   ],
   "source": [
    "df[\"Loan_ID\"].nunique()"
   ]
  },
  {
   "cell_type": "code",
   "execution_count": 6,
   "id": "e8d92af6",
   "metadata": {},
   "outputs": [],
   "source": [
    "df.drop(columns=[\"Loan_ID\"],inplace=True)"
   ]
  },
  {
   "cell_type": "code",
   "execution_count": 7,
   "id": "28aacd50",
   "metadata": {},
   "outputs": [
    {
     "data": {
      "text/html": [
       "<div>\n",
       "<style scoped>\n",
       "    .dataframe tbody tr th:only-of-type {\n",
       "        vertical-align: middle;\n",
       "    }\n",
       "\n",
       "    .dataframe tbody tr th {\n",
       "        vertical-align: top;\n",
       "    }\n",
       "\n",
       "    .dataframe thead th {\n",
       "        text-align: right;\n",
       "    }\n",
       "</style>\n",
       "<table border=\"1\" class=\"dataframe\">\n",
       "  <thead>\n",
       "    <tr style=\"text-align: right;\">\n",
       "      <th></th>\n",
       "      <th>Gender</th>\n",
       "      <th>Married</th>\n",
       "      <th>Dependents</th>\n",
       "      <th>Education</th>\n",
       "      <th>Self_Employed</th>\n",
       "      <th>ApplicantIncome</th>\n",
       "      <th>CoapplicantIncome</th>\n",
       "      <th>LoanAmount</th>\n",
       "      <th>Loan_Amount_Term</th>\n",
       "      <th>Credit_History</th>\n",
       "      <th>Property_Area</th>\n",
       "      <th>Loan_Status</th>\n",
       "    </tr>\n",
       "  </thead>\n",
       "  <tbody>\n",
       "    <tr>\n",
       "      <th>0</th>\n",
       "      <td>Male</td>\n",
       "      <td>No</td>\n",
       "      <td>0</td>\n",
       "      <td>Graduate</td>\n",
       "      <td>No</td>\n",
       "      <td>5849</td>\n",
       "      <td>0.0</td>\n",
       "      <td>NaN</td>\n",
       "      <td>360.0</td>\n",
       "      <td>1.0</td>\n",
       "      <td>Urban</td>\n",
       "      <td>Y</td>\n",
       "    </tr>\n",
       "    <tr>\n",
       "      <th>1</th>\n",
       "      <td>Male</td>\n",
       "      <td>Yes</td>\n",
       "      <td>1</td>\n",
       "      <td>Graduate</td>\n",
       "      <td>No</td>\n",
       "      <td>4583</td>\n",
       "      <td>1508.0</td>\n",
       "      <td>128.0</td>\n",
       "      <td>360.0</td>\n",
       "      <td>1.0</td>\n",
       "      <td>Rural</td>\n",
       "      <td>N</td>\n",
       "    </tr>\n",
       "    <tr>\n",
       "      <th>2</th>\n",
       "      <td>Male</td>\n",
       "      <td>Yes</td>\n",
       "      <td>0</td>\n",
       "      <td>Graduate</td>\n",
       "      <td>Yes</td>\n",
       "      <td>3000</td>\n",
       "      <td>0.0</td>\n",
       "      <td>66.0</td>\n",
       "      <td>360.0</td>\n",
       "      <td>1.0</td>\n",
       "      <td>Urban</td>\n",
       "      <td>Y</td>\n",
       "    </tr>\n",
       "    <tr>\n",
       "      <th>3</th>\n",
       "      <td>Male</td>\n",
       "      <td>Yes</td>\n",
       "      <td>0</td>\n",
       "      <td>Not Graduate</td>\n",
       "      <td>No</td>\n",
       "      <td>2583</td>\n",
       "      <td>2358.0</td>\n",
       "      <td>120.0</td>\n",
       "      <td>360.0</td>\n",
       "      <td>1.0</td>\n",
       "      <td>Urban</td>\n",
       "      <td>Y</td>\n",
       "    </tr>\n",
       "    <tr>\n",
       "      <th>4</th>\n",
       "      <td>Male</td>\n",
       "      <td>No</td>\n",
       "      <td>0</td>\n",
       "      <td>Graduate</td>\n",
       "      <td>No</td>\n",
       "      <td>6000</td>\n",
       "      <td>0.0</td>\n",
       "      <td>141.0</td>\n",
       "      <td>360.0</td>\n",
       "      <td>1.0</td>\n",
       "      <td>Urban</td>\n",
       "      <td>Y</td>\n",
       "    </tr>\n",
       "    <tr>\n",
       "      <th>...</th>\n",
       "      <td>...</td>\n",
       "      <td>...</td>\n",
       "      <td>...</td>\n",
       "      <td>...</td>\n",
       "      <td>...</td>\n",
       "      <td>...</td>\n",
       "      <td>...</td>\n",
       "      <td>...</td>\n",
       "      <td>...</td>\n",
       "      <td>...</td>\n",
       "      <td>...</td>\n",
       "      <td>...</td>\n",
       "    </tr>\n",
       "    <tr>\n",
       "      <th>609</th>\n",
       "      <td>Female</td>\n",
       "      <td>No</td>\n",
       "      <td>0</td>\n",
       "      <td>Graduate</td>\n",
       "      <td>No</td>\n",
       "      <td>2900</td>\n",
       "      <td>0.0</td>\n",
       "      <td>71.0</td>\n",
       "      <td>360.0</td>\n",
       "      <td>1.0</td>\n",
       "      <td>Rural</td>\n",
       "      <td>Y</td>\n",
       "    </tr>\n",
       "    <tr>\n",
       "      <th>610</th>\n",
       "      <td>Male</td>\n",
       "      <td>Yes</td>\n",
       "      <td>3+</td>\n",
       "      <td>Graduate</td>\n",
       "      <td>No</td>\n",
       "      <td>4106</td>\n",
       "      <td>0.0</td>\n",
       "      <td>40.0</td>\n",
       "      <td>180.0</td>\n",
       "      <td>1.0</td>\n",
       "      <td>Rural</td>\n",
       "      <td>Y</td>\n",
       "    </tr>\n",
       "    <tr>\n",
       "      <th>611</th>\n",
       "      <td>Male</td>\n",
       "      <td>Yes</td>\n",
       "      <td>1</td>\n",
       "      <td>Graduate</td>\n",
       "      <td>No</td>\n",
       "      <td>8072</td>\n",
       "      <td>240.0</td>\n",
       "      <td>253.0</td>\n",
       "      <td>360.0</td>\n",
       "      <td>1.0</td>\n",
       "      <td>Urban</td>\n",
       "      <td>Y</td>\n",
       "    </tr>\n",
       "    <tr>\n",
       "      <th>612</th>\n",
       "      <td>Male</td>\n",
       "      <td>Yes</td>\n",
       "      <td>2</td>\n",
       "      <td>Graduate</td>\n",
       "      <td>No</td>\n",
       "      <td>7583</td>\n",
       "      <td>0.0</td>\n",
       "      <td>187.0</td>\n",
       "      <td>360.0</td>\n",
       "      <td>1.0</td>\n",
       "      <td>Urban</td>\n",
       "      <td>Y</td>\n",
       "    </tr>\n",
       "    <tr>\n",
       "      <th>613</th>\n",
       "      <td>Female</td>\n",
       "      <td>No</td>\n",
       "      <td>0</td>\n",
       "      <td>Graduate</td>\n",
       "      <td>Yes</td>\n",
       "      <td>4583</td>\n",
       "      <td>0.0</td>\n",
       "      <td>133.0</td>\n",
       "      <td>360.0</td>\n",
       "      <td>0.0</td>\n",
       "      <td>Semiurban</td>\n",
       "      <td>N</td>\n",
       "    </tr>\n",
       "  </tbody>\n",
       "</table>\n",
       "<p>614 rows × 12 columns</p>\n",
       "</div>"
      ],
      "text/plain": [
       "     Gender Married Dependents     Education Self_Employed  ApplicantIncome  \\\n",
       "0      Male      No          0      Graduate            No             5849   \n",
       "1      Male     Yes          1      Graduate            No             4583   \n",
       "2      Male     Yes          0      Graduate           Yes             3000   \n",
       "3      Male     Yes          0  Not Graduate            No             2583   \n",
       "4      Male      No          0      Graduate            No             6000   \n",
       "..      ...     ...        ...           ...           ...              ...   \n",
       "609  Female      No          0      Graduate            No             2900   \n",
       "610    Male     Yes         3+      Graduate            No             4106   \n",
       "611    Male     Yes          1      Graduate            No             8072   \n",
       "612    Male     Yes          2      Graduate            No             7583   \n",
       "613  Female      No          0      Graduate           Yes             4583   \n",
       "\n",
       "     CoapplicantIncome  LoanAmount  Loan_Amount_Term  Credit_History  \\\n",
       "0                  0.0         NaN             360.0             1.0   \n",
       "1               1508.0       128.0             360.0             1.0   \n",
       "2                  0.0        66.0             360.0             1.0   \n",
       "3               2358.0       120.0             360.0             1.0   \n",
       "4                  0.0       141.0             360.0             1.0   \n",
       "..                 ...         ...               ...             ...   \n",
       "609                0.0        71.0             360.0             1.0   \n",
       "610                0.0        40.0             180.0             1.0   \n",
       "611              240.0       253.0             360.0             1.0   \n",
       "612                0.0       187.0             360.0             1.0   \n",
       "613                0.0       133.0             360.0             0.0   \n",
       "\n",
       "    Property_Area Loan_Status  \n",
       "0           Urban           Y  \n",
       "1           Rural           N  \n",
       "2           Urban           Y  \n",
       "3           Urban           Y  \n",
       "4           Urban           Y  \n",
       "..            ...         ...  \n",
       "609         Rural           Y  \n",
       "610         Rural           Y  \n",
       "611         Urban           Y  \n",
       "612         Urban           Y  \n",
       "613     Semiurban           N  \n",
       "\n",
       "[614 rows x 12 columns]"
      ]
     },
     "execution_count": 7,
     "metadata": {},
     "output_type": "execute_result"
    }
   ],
   "source": [
    "df"
   ]
  },
  {
   "cell_type": "code",
   "execution_count": 8,
   "id": "7845d0a3",
   "metadata": {},
   "outputs": [
    {
     "data": {
      "text/plain": [
       "array(['Male', 'Female', nan], dtype=object)"
      ]
     },
     "execution_count": 8,
     "metadata": {},
     "output_type": "execute_result"
    }
   ],
   "source": [
    "df[\"Gender\"].unique()"
   ]
  },
  {
   "cell_type": "code",
   "execution_count": 9,
   "id": "c9bc8f1f",
   "metadata": {},
   "outputs": [
    {
     "data": {
      "text/plain": [
       "13"
      ]
     },
     "execution_count": 9,
     "metadata": {},
     "output_type": "execute_result"
    }
   ],
   "source": [
    "df[\"Gender\"].isnull().sum()"
   ]
  },
  {
   "cell_type": "code",
   "execution_count": null,
   "id": "2a2feb67-0c9d-45bb-bdfd-d3307b37aa03",
   "metadata": {},
   "outputs": [],
   "source": []
  },
  {
   "cell_type": "code",
   "execution_count": 10,
   "id": "729ba5c5",
   "metadata": {},
   "outputs": [
    {
     "data": {
      "text/plain": [
       "Gender\n",
       "Male      489\n",
       "Female    112\n",
       "Name: count, dtype: int64"
      ]
     },
     "execution_count": 10,
     "metadata": {},
     "output_type": "execute_result"
    }
   ],
   "source": [
    "df[\"Gender\"].value_counts()"
   ]
  },
  {
   "cell_type": "code",
   "execution_count": 11,
   "id": "73376a45-c0bd-4571-8662-159e8f2597c0",
   "metadata": {},
   "outputs": [
    {
     "data": {
      "text/plain": [
       "13"
      ]
     },
     "execution_count": 11,
     "metadata": {},
     "output_type": "execute_result"
    }
   ],
   "source": [
    "df[\"Gender\"].isnull().sum()"
   ]
  },
  {
   "cell_type": "code",
   "execution_count": 12,
   "id": "86dff782",
   "metadata": {},
   "outputs": [
    {
     "data": {
      "text/plain": [
       "Dependents\n",
       "0     345\n",
       "1     102\n",
       "2     101\n",
       "3+     51\n",
       "Name: count, dtype: int64"
      ]
     },
     "execution_count": 12,
     "metadata": {},
     "output_type": "execute_result"
    }
   ],
   "source": [
    "df[\"Dependents\"].value_counts()"
   ]
  },
  {
   "cell_type": "code",
   "execution_count": 13,
   "id": "b787e881",
   "metadata": {},
   "outputs": [
    {
     "data": {
      "text/plain": [
       "15"
      ]
     },
     "execution_count": 13,
     "metadata": {},
     "output_type": "execute_result"
    }
   ],
   "source": [
    "df[\"Dependents\"].isnull().sum()"
   ]
  },
  {
   "cell_type": "code",
   "execution_count": 14,
   "id": "a9f2321d",
   "metadata": {},
   "outputs": [
    {
     "data": {
      "text/plain": [
       "Dependents\n",
       "0     345\n",
       "1     102\n",
       "2     101\n",
       "3+     51\n",
       "Name: count, dtype: int64"
      ]
     },
     "execution_count": 14,
     "metadata": {},
     "output_type": "execute_result"
    }
   ],
   "source": [
    "df[\"Dependents\"].value_counts()"
   ]
  },
  {
   "cell_type": "code",
   "execution_count": 15,
   "id": "3d8f2636",
   "metadata": {},
   "outputs": [
    {
     "data": {
      "text/plain": [
       "array(['0', '1', '2', '3+', nan], dtype=object)"
      ]
     },
     "execution_count": 15,
     "metadata": {},
     "output_type": "execute_result"
    }
   ],
   "source": [
    "df[\"Dependents\"].unique()"
   ]
  },
  {
   "cell_type": "code",
   "execution_count": 16,
   "id": "d2e6e9bd",
   "metadata": {},
   "outputs": [
    {
     "data": {
      "text/plain": [
       "array(['Graduate', 'Not Graduate'], dtype=object)"
      ]
     },
     "execution_count": 16,
     "metadata": {},
     "output_type": "execute_result"
    }
   ],
   "source": [
    "df[\"Education\"].unique()"
   ]
  },
  {
   "cell_type": "code",
   "execution_count": 17,
   "id": "4f8aebda",
   "metadata": {},
   "outputs": [
    {
     "data": {
      "text/plain": [
       "Education\n",
       "Graduate        480\n",
       "Not Graduate    134\n",
       "Name: count, dtype: int64"
      ]
     },
     "execution_count": 17,
     "metadata": {},
     "output_type": "execute_result"
    }
   ],
   "source": [
    "df[\"Education\"].value_counts()"
   ]
  },
  {
   "cell_type": "code",
   "execution_count": 18,
   "id": "db8adf81",
   "metadata": {},
   "outputs": [
    {
     "data": {
      "text/plain": [
       "0"
      ]
     },
     "execution_count": 18,
     "metadata": {},
     "output_type": "execute_result"
    }
   ],
   "source": [
    "df[\"Education\"].isnull().sum()"
   ]
  },
  {
   "cell_type": "code",
   "execution_count": 19,
   "id": "95019e97",
   "metadata": {},
   "outputs": [
    {
     "data": {
      "text/plain": [
       "array(['No', 'Yes', nan], dtype=object)"
      ]
     },
     "execution_count": 19,
     "metadata": {},
     "output_type": "execute_result"
    }
   ],
   "source": [
    "df[\"Self_Employed\"].unique()"
   ]
  },
  {
   "cell_type": "code",
   "execution_count": 20,
   "id": "7af919e4",
   "metadata": {},
   "outputs": [
    {
     "data": {
      "text/plain": [
       "Self_Employed\n",
       "No     500\n",
       "Yes     82\n",
       "Name: count, dtype: int64"
      ]
     },
     "execution_count": 20,
     "metadata": {},
     "output_type": "execute_result"
    }
   ],
   "source": [
    "df[\"Self_Employed\"].value_counts()"
   ]
  },
  {
   "cell_type": "code",
   "execution_count": 21,
   "id": "cd1a6a6e",
   "metadata": {},
   "outputs": [
    {
     "data": {
      "text/plain": [
       "32"
      ]
     },
     "execution_count": 21,
     "metadata": {},
     "output_type": "execute_result"
    }
   ],
   "source": [
    "df[\"Self_Employed\"].isnull().sum()"
   ]
  },
  {
   "cell_type": "code",
   "execution_count": 22,
   "id": "2ca073dc",
   "metadata": {},
   "outputs": [],
   "source": [
    "df[\"income\"]=df[\"ApplicantIncome\"]+df[\"CoapplicantIncome\"]"
   ]
  },
  {
   "cell_type": "code",
   "execution_count": 23,
   "id": "2769a698",
   "metadata": {},
   "outputs": [],
   "source": [
    "df.drop(columns=[\"ApplicantIncome\",\"CoapplicantIncome\"],inplace=True)"
   ]
  },
  {
   "cell_type": "code",
   "execution_count": 24,
   "id": "b7ac153c",
   "metadata": {},
   "outputs": [
    {
     "data": {
      "text/plain": [
       "count      614.000000\n",
       "mean      7024.705081\n",
       "std       6458.663872\n",
       "min       1442.000000\n",
       "25%       4166.000000\n",
       "50%       5416.500000\n",
       "75%       7521.750000\n",
       "max      81000.000000\n",
       "Name: income, dtype: float64"
      ]
     },
     "execution_count": 24,
     "metadata": {},
     "output_type": "execute_result"
    }
   ],
   "source": [
    "df[\"income\"].describe()"
   ]
  },
  {
   "cell_type": "code",
   "execution_count": 25,
   "id": "9b479e0c",
   "metadata": {},
   "outputs": [
    {
     "data": {
      "text/plain": [
       "LoanAmount\n",
       "120.0    20\n",
       "110.0    17\n",
       "100.0    15\n",
       "160.0    12\n",
       "187.0    12\n",
       "         ..\n",
       "240.0     1\n",
       "214.0     1\n",
       "59.0      1\n",
       "166.0     1\n",
       "253.0     1\n",
       "Name: count, Length: 203, dtype: int64"
      ]
     },
     "execution_count": 25,
     "metadata": {},
     "output_type": "execute_result"
    }
   ],
   "source": [
    "df[\"LoanAmount\"].value_counts()"
   ]
  },
  {
   "cell_type": "code",
   "execution_count": 26,
   "id": "0e45057a",
   "metadata": {},
   "outputs": [
    {
     "data": {
      "text/plain": [
       "22"
      ]
     },
     "execution_count": 26,
     "metadata": {},
     "output_type": "execute_result"
    }
   ],
   "source": [
    "df[\"LoanAmount\"].isnull().sum()"
   ]
  },
  {
   "cell_type": "code",
   "execution_count": 27,
   "id": "af94ae8e",
   "metadata": {},
   "outputs": [
    {
     "data": {
      "text/plain": [
       "Index(['Gender', 'Married', 'Dependents', 'Education', 'Self_Employed',\n",
       "       'LoanAmount', 'Loan_Amount_Term', 'Credit_History', 'Property_Area',\n",
       "       'Loan_Status', 'income'],\n",
       "      dtype='object')"
      ]
     },
     "execution_count": 27,
     "metadata": {},
     "output_type": "execute_result"
    }
   ],
   "source": [
    "df.columns"
   ]
  },
  {
   "cell_type": "code",
   "execution_count": 28,
   "id": "ae9053cc",
   "metadata": {},
   "outputs": [
    {
     "data": {
      "text/plain": [
       "array([360., 120., 240.,  nan, 180.,  60., 300., 480.,  36.,  84.,  12.])"
      ]
     },
     "execution_count": 28,
     "metadata": {},
     "output_type": "execute_result"
    }
   ],
   "source": [
    "df[\"Loan_Amount_Term\"].unique()"
   ]
  },
  {
   "cell_type": "code",
   "execution_count": 29,
   "id": "c652d551",
   "metadata": {},
   "outputs": [
    {
     "data": {
      "text/plain": [
       "Loan_Amount_Term\n",
       "360.0    512\n",
       "180.0     44\n",
       "480.0     15\n",
       "300.0     13\n",
       "240.0      4\n",
       "84.0       4\n",
       "120.0      3\n",
       "60.0       2\n",
       "36.0       2\n",
       "12.0       1\n",
       "Name: count, dtype: int64"
      ]
     },
     "execution_count": 29,
     "metadata": {},
     "output_type": "execute_result"
    }
   ],
   "source": [
    "df[\"Loan_Amount_Term\"].value_counts()"
   ]
  },
  {
   "cell_type": "code",
   "execution_count": 30,
   "id": "c54fd128",
   "metadata": {},
   "outputs": [
    {
     "data": {
      "text/plain": [
       "14"
      ]
     },
     "execution_count": 30,
     "metadata": {},
     "output_type": "execute_result"
    }
   ],
   "source": [
    "\n",
    "\n",
    "df[\"Loan_Amount_Term\"].isnull().sum()"
   ]
  },
  {
   "cell_type": "code",
   "execution_count": 31,
   "id": "bb0d87f7",
   "metadata": {},
   "outputs": [
    {
     "data": {
      "text/plain": [
       "Credit_History\n",
       "1.0    475\n",
       "0.0     89\n",
       "Name: count, dtype: int64"
      ]
     },
     "execution_count": 31,
     "metadata": {},
     "output_type": "execute_result"
    }
   ],
   "source": [
    "df[\"Credit_History\"].value_counts()"
   ]
  },
  {
   "cell_type": "code",
   "execution_count": 32,
   "id": "6400f855",
   "metadata": {},
   "outputs": [
    {
     "data": {
      "text/plain": [
       "array([ 1.,  0., nan])"
      ]
     },
     "execution_count": 32,
     "metadata": {},
     "output_type": "execute_result"
    }
   ],
   "source": [
    "df[\"Credit_History\"].unique()"
   ]
  },
  {
   "cell_type": "code",
   "execution_count": 33,
   "id": "e66dbd32",
   "metadata": {},
   "outputs": [
    {
     "data": {
      "text/plain": [
       "50"
      ]
     },
     "execution_count": 33,
     "metadata": {},
     "output_type": "execute_result"
    }
   ],
   "source": [
    "df[\"Credit_History\"].isnull().sum()"
   ]
  },
  {
   "cell_type": "code",
   "execution_count": 34,
   "id": "205b52b3",
   "metadata": {},
   "outputs": [
    {
     "data": {
      "text/plain": [
       "array(['Urban', 'Rural', 'Semiurban'], dtype=object)"
      ]
     },
     "execution_count": 34,
     "metadata": {},
     "output_type": "execute_result"
    }
   ],
   "source": [
    "df[\"Property_Area\"].unique()"
   ]
  },
  {
   "cell_type": "code",
   "execution_count": 35,
   "id": "e13c973a",
   "metadata": {},
   "outputs": [
    {
     "data": {
      "text/plain": [
       "Property_Area\n",
       "Semiurban    233\n",
       "Urban        202\n",
       "Rural        179\n",
       "Name: count, dtype: int64"
      ]
     },
     "execution_count": 35,
     "metadata": {},
     "output_type": "execute_result"
    }
   ],
   "source": [
    "df[\"Property_Area\"].value_counts()"
   ]
  },
  {
   "cell_type": "code",
   "execution_count": 36,
   "id": "a1af5d0d",
   "metadata": {},
   "outputs": [
    {
     "data": {
      "text/plain": [
       "0"
      ]
     },
     "execution_count": 36,
     "metadata": {},
     "output_type": "execute_result"
    }
   ],
   "source": [
    "df[\"Property_Area\"].isnull().sum()"
   ]
  },
  {
   "cell_type": "code",
   "execution_count": 37,
   "id": "d8fce78d",
   "metadata": {},
   "outputs": [
    {
     "data": {
      "text/plain": [
       "array(['Y', 'N'], dtype=object)"
      ]
     },
     "execution_count": 37,
     "metadata": {},
     "output_type": "execute_result"
    }
   ],
   "source": [
    "df[\"Loan_Status\"].unique()"
   ]
  },
  {
   "cell_type": "code",
   "execution_count": 38,
   "id": "7170d44a",
   "metadata": {},
   "outputs": [
    {
     "data": {
      "text/plain": [
       "Loan_Status\n",
       "Y    422\n",
       "N    192\n",
       "Name: count, dtype: int64"
      ]
     },
     "execution_count": 38,
     "metadata": {},
     "output_type": "execute_result"
    }
   ],
   "source": [
    "df[\"Loan_Status\"].value_counts()"
   ]
  },
  {
   "cell_type": "code",
   "execution_count": 39,
   "id": "1af0ca4e",
   "metadata": {},
   "outputs": [
    {
     "data": {
      "text/plain": [
       "0"
      ]
     },
     "execution_count": 39,
     "metadata": {},
     "output_type": "execute_result"
    }
   ],
   "source": [
    "df[\"Loan_Status\"].isnull().sum()"
   ]
  },
  {
   "cell_type": "code",
   "execution_count": 40,
   "id": "8d7184dd",
   "metadata": {},
   "outputs": [
    {
     "data": {
      "text/plain": [
       "Index(['Gender', 'Married', 'Dependents', 'Education', 'Self_Employed',\n",
       "       'LoanAmount', 'Loan_Amount_Term', 'Credit_History', 'Property_Area',\n",
       "       'Loan_Status', 'income'],\n",
       "      dtype='object')"
      ]
     },
     "execution_count": 40,
     "metadata": {},
     "output_type": "execute_result"
    }
   ],
   "source": [
    "df.columns"
   ]
  },
  {
   "cell_type": "code",
   "execution_count": 41,
   "id": "ae4c1755",
   "metadata": {},
   "outputs": [],
   "source": [
    "continous=[\"income\",'LoanAmount']\n",
    "discrete_count=['Dependent','Loan_Amount_term']"
   ]
  },
  {
   "cell_type": "code",
   "execution_count": 42,
   "id": "4eebbe80",
   "metadata": {},
   "outputs": [],
   "source": [
    "categorical=[\"Gender\",\"Married\",\"Education\",\"Self_Employed\",\"Property_Area\",\"Loan_Status\",\"Credit_History\"]"
   ]
  },
  {
   "cell_type": "code",
   "execution_count": 43,
   "id": "1156dfb8",
   "metadata": {},
   "outputs": [
    {
     "data": {
      "text/plain": [
       "Index(['Gender', 'Married', 'Dependents', 'Education', 'Self_Employed',\n",
       "       'LoanAmount', 'Loan_Amount_Term', 'Credit_History', 'Property_Area',\n",
       "       'Loan_Status', 'income'],\n",
       "      dtype='object')"
      ]
     },
     "execution_count": 43,
     "metadata": {},
     "output_type": "execute_result"
    }
   ],
   "source": [
    "df.columns"
   ]
  },
  {
   "cell_type": "code",
   "execution_count": null,
   "id": "adf19c12",
   "metadata": {},
   "outputs": [],
   "source": []
  },
  {
   "cell_type": "markdown",
   "id": "489ba542",
   "metadata": {},
   "source": [
    "\n",
    "### exploratory data analysis(EDA)\n",
    "- for continous variable"
   ]
  },
  {
   "cell_type": "code",
   "execution_count": 44,
   "id": "d1b1ae8b",
   "metadata": {},
   "outputs": [
    {
     "data": {
      "text/html": [
       "<div>\n",
       "<style scoped>\n",
       "    .dataframe tbody tr th:only-of-type {\n",
       "        vertical-align: middle;\n",
       "    }\n",
       "\n",
       "    .dataframe tbody tr th {\n",
       "        vertical-align: top;\n",
       "    }\n",
       "\n",
       "    .dataframe thead th {\n",
       "        text-align: right;\n",
       "    }\n",
       "</style>\n",
       "<table border=\"1\" class=\"dataframe\">\n",
       "  <thead>\n",
       "    <tr style=\"text-align: right;\">\n",
       "      <th></th>\n",
       "      <th>income</th>\n",
       "      <th>LoanAmount</th>\n",
       "    </tr>\n",
       "  </thead>\n",
       "  <tbody>\n",
       "    <tr>\n",
       "      <th>count</th>\n",
       "      <td>614.000000</td>\n",
       "      <td>592.000000</td>\n",
       "    </tr>\n",
       "    <tr>\n",
       "      <th>mean</th>\n",
       "      <td>7024.705081</td>\n",
       "      <td>146.412162</td>\n",
       "    </tr>\n",
       "    <tr>\n",
       "      <th>std</th>\n",
       "      <td>6458.663872</td>\n",
       "      <td>85.587325</td>\n",
       "    </tr>\n",
       "    <tr>\n",
       "      <th>min</th>\n",
       "      <td>1442.000000</td>\n",
       "      <td>9.000000</td>\n",
       "    </tr>\n",
       "    <tr>\n",
       "      <th>25%</th>\n",
       "      <td>4166.000000</td>\n",
       "      <td>100.000000</td>\n",
       "    </tr>\n",
       "    <tr>\n",
       "      <th>50%</th>\n",
       "      <td>5416.500000</td>\n",
       "      <td>128.000000</td>\n",
       "    </tr>\n",
       "    <tr>\n",
       "      <th>75%</th>\n",
       "      <td>7521.750000</td>\n",
       "      <td>168.000000</td>\n",
       "    </tr>\n",
       "    <tr>\n",
       "      <th>max</th>\n",
       "      <td>81000.000000</td>\n",
       "      <td>700.000000</td>\n",
       "    </tr>\n",
       "  </tbody>\n",
       "</table>\n",
       "</div>"
      ],
      "text/plain": [
       "             income  LoanAmount\n",
       "count    614.000000  592.000000\n",
       "mean    7024.705081  146.412162\n",
       "std     6458.663872   85.587325\n",
       "min     1442.000000    9.000000\n",
       "25%     4166.000000  100.000000\n",
       "50%     5416.500000  128.000000\n",
       "75%     7521.750000  168.000000\n",
       "max    81000.000000  700.000000"
      ]
     },
     "execution_count": 44,
     "metadata": {},
     "output_type": "execute_result"
    }
   ],
   "source": [
    "df[continous].describe()"
   ]
  },
  {
   "cell_type": "markdown",
   "id": "404cd035",
   "metadata": {},
   "source": [
    "##### in this data set min income(1442 dollars) get minimum amount of loan is 9.000 000dollars\n",
    "#### in this data set max income(81000 dollars) get minimum amount of loan is 700.000000 dollars"
   ]
  },
  {
   "cell_type": "code",
   "execution_count": 45,
   "id": "a3a439e6",
   "metadata": {},
   "outputs": [
    {
     "data": {
      "image/png": "[encoded data removed]",
      "text/plain": [
       "<Figure size 1800x800 with 2 Axes>"
      ]
     },
     "metadata": {},
     "output_type": "display_data"
    }
   ],
   "source": [
    "plt.rcParams[\"figure.figsize\"]=(18,8)\n",
    "\n",
    "plt.subplot(1,2,1)\n",
    "sns.histplot(df[\"income\"],kde=True)\n",
    "\n",
    "plt.subplot(1,2,2)\n",
    "sns.histplot(df[\"LoanAmount\"],kde=True)\n",
    "\n",
    "plt.suptitle(\"univariate analysis on numerical columns\")\n",
    "plt.show()"
   ]
  },
  {
   "cell_type": "code",
   "execution_count": 46,
   "id": "302aff50",
   "metadata": {},
   "outputs": [
    {
     "data": {
      "image/png": "[encoded data removed]",
      "text/plain": [
       "<Figure size 1800x800 with 2 Axes>"
      ]
     },
     "metadata": {},
     "output_type": "display_data"
    }
   ],
   "source": [
    "sns.heatmap(df[continous].corr(),annot=True)\n",
    "plt.show()"
   ]
  },
  {
   "cell_type": "code",
   "execution_count": 47,
   "id": "6c9162c9",
   "metadata": {},
   "outputs": [
    {
     "data": {
      "image/png": "[encoded data removed]",
      "text/plain": [
       "<Figure size 500x500 with 6 Axes>"
      ]
     },
     "metadata": {},
     "output_type": "display_data"
    }
   ],
   "source": [
    "sns.pairplot(df[continous])\n",
    "plt.show()"
   ]
  },
  {
   "cell_type": "code",
   "execution_count": 48,
   "id": "ecdf61f2",
   "metadata": {},
   "outputs": [
    {
     "data": {
      "text/html": [
       "<div>\n",
       "<style scoped>\n",
       "    .dataframe tbody tr th:only-of-type {\n",
       "        vertical-align: middle;\n",
       "    }\n",
       "\n",
       "    .dataframe tbody tr th {\n",
       "        vertical-align: top;\n",
       "    }\n",
       "\n",
       "    .dataframe thead th {\n",
       "        text-align: right;\n",
       "    }\n",
       "</style>\n",
       "<table border=\"1\" class=\"dataframe\">\n",
       "  <thead>\n",
       "    <tr style=\"text-align: right;\">\n",
       "      <th></th>\n",
       "      <th>Credit_History</th>\n",
       "    </tr>\n",
       "  </thead>\n",
       "  <tbody>\n",
       "    <tr>\n",
       "      <th>count</th>\n",
       "      <td>564.000000</td>\n",
       "    </tr>\n",
       "    <tr>\n",
       "      <th>mean</th>\n",
       "      <td>0.842199</td>\n",
       "    </tr>\n",
       "    <tr>\n",
       "      <th>std</th>\n",
       "      <td>0.364878</td>\n",
       "    </tr>\n",
       "    <tr>\n",
       "      <th>min</th>\n",
       "      <td>0.000000</td>\n",
       "    </tr>\n",
       "    <tr>\n",
       "      <th>25%</th>\n",
       "      <td>1.000000</td>\n",
       "    </tr>\n",
       "    <tr>\n",
       "      <th>50%</th>\n",
       "      <td>1.000000</td>\n",
       "    </tr>\n",
       "    <tr>\n",
       "      <th>75%</th>\n",
       "      <td>1.000000</td>\n",
       "    </tr>\n",
       "    <tr>\n",
       "      <th>max</th>\n",
       "      <td>1.000000</td>\n",
       "    </tr>\n",
       "  </tbody>\n",
       "</table>\n",
       "</div>"
      ],
      "text/plain": [
       "       Credit_History\n",
       "count      564.000000\n",
       "mean         0.842199\n",
       "std          0.364878\n",
       "min          0.000000\n",
       "25%          1.000000\n",
       "50%          1.000000\n",
       "75%          1.000000\n",
       "max          1.000000"
      ]
     },
     "execution_count": 48,
     "metadata": {},
     "output_type": "execute_result"
    }
   ],
   "source": [
    "df[categorical].describe()"
   ]
  },
  {
   "cell_type": "code",
   "execution_count": 49,
   "id": "c9120dc2",
   "metadata": {},
   "outputs": [
    {
     "data": {
      "text/plain": [
       "count    564.000000\n",
       "mean       0.842199\n",
       "std        0.364878\n",
       "min        0.000000\n",
       "25%        1.000000\n",
       "50%        1.000000\n",
       "75%        1.000000\n",
       "max        1.000000\n",
       "Name: Credit_History, dtype: float64"
      ]
     },
     "execution_count": 49,
     "metadata": {},
     "output_type": "execute_result"
    }
   ],
   "source": [
    "df[\"Credit_History\"].describe()"
   ]
  },
  {
   "cell_type": "markdown",
   "id": "7017bf11",
   "metadata": {},
   "source": [
    "## step 3: data preprocessing"
   ]
  },
  {
   "cell_type": "markdown",
   "id": "b0bf825d",
   "metadata": {},
   "source": [
    "- data cleaing"
   ]
  },
  {
   "cell_type": "code",
   "execution_count": 50,
   "id": "9c4a27dc",
   "metadata": {
    "scrolled": true
   },
   "outputs": [
    {
     "data": {
      "text/plain": [
       "<Axes: ylabel='count'>"
      ]
     },
     "execution_count": 50,
     "metadata": {},
     "output_type": "execute_result"
    },
    {
     "data": {
      "image/png": "[encoded data removed]",
      "text/plain": [
       "<Figure size 1800x800 with 1 Axes>"
      ]
     },
     "metadata": {},
     "output_type": "display_data"
    }
   ],
   "source": [
    "plt.rcParams[\"figure.figsize\"]=(18,8)\n",
    "plt.subplot(2,3,1)\n",
    "sns.countplot(df[\"income\"])"
   ]
  },
  {
   "cell_type": "markdown",
   "id": "03babdf3-6ad1-42b6-b0a5-c4de60b8ffee",
   "metadata": {},
   "source": [
    "### missing values treatment"
   ]
  },
  {
   "cell_type": "code",
   "execution_count": 51,
   "id": "25679108",
   "metadata": {},
   "outputs": [
    {
     "data": {
      "text/plain": [
       "Gender              13\n",
       "Married              3\n",
       "Dependents          15\n",
       "Education            0\n",
       "Self_Employed       32\n",
       "LoanAmount          22\n",
       "Loan_Amount_Term    14\n",
       "Credit_History      50\n",
       "Property_Area        0\n",
       "Loan_Status          0\n",
       "income               0\n",
       "dtype: int64"
      ]
     },
     "execution_count": 51,
     "metadata": {},
     "output_type": "execute_result"
    }
   ],
   "source": [
    "#checking no . of missing values\n",
    "df.isnull().sum()"
   ]
  },
  {
   "cell_type": "code",
   "execution_count": 52,
   "id": "029a036d",
   "metadata": {
    "scrolled": true
   },
   "outputs": [
    {
     "data": {
      "text/html": [
       "<div>\n",
       "<style scoped>\n",
       "    .dataframe tbody tr th:only-of-type {\n",
       "        vertical-align: middle;\n",
       "    }\n",
       "\n",
       "    .dataframe tbody tr th {\n",
       "        vertical-align: top;\n",
       "    }\n",
       "\n",
       "    .dataframe thead th {\n",
       "        text-align: right;\n",
       "    }\n",
       "</style>\n",
       "<table border=\"1\" class=\"dataframe\">\n",
       "  <thead>\n",
       "    <tr style=\"text-align: right;\">\n",
       "      <th></th>\n",
       "      <th>Gender</th>\n",
       "      <th>Married</th>\n",
       "      <th>Dependents</th>\n",
       "      <th>Education</th>\n",
       "      <th>Self_Employed</th>\n",
       "      <th>LoanAmount</th>\n",
       "      <th>Loan_Amount_Term</th>\n",
       "      <th>Credit_History</th>\n",
       "      <th>Property_Area</th>\n",
       "      <th>Loan_Status</th>\n",
       "      <th>income</th>\n",
       "    </tr>\n",
       "  </thead>\n",
       "  <tbody>\n",
       "    <tr>\n",
       "      <th>0</th>\n",
       "      <td>0.0</td>\n",
       "      <td>0.0</td>\n",
       "      <td>0.0</td>\n",
       "      <td>0.0</td>\n",
       "      <td>0.0</td>\n",
       "      <td>0.162866</td>\n",
       "      <td>0.0</td>\n",
       "      <td>0.0</td>\n",
       "      <td>0.0</td>\n",
       "      <td>0.0</td>\n",
       "      <td>0.0</td>\n",
       "    </tr>\n",
       "    <tr>\n",
       "      <th>1</th>\n",
       "      <td>0.0</td>\n",
       "      <td>0.0</td>\n",
       "      <td>0.0</td>\n",
       "      <td>0.0</td>\n",
       "      <td>0.0</td>\n",
       "      <td>0.000000</td>\n",
       "      <td>0.0</td>\n",
       "      <td>0.0</td>\n",
       "      <td>0.0</td>\n",
       "      <td>0.0</td>\n",
       "      <td>0.0</td>\n",
       "    </tr>\n",
       "    <tr>\n",
       "      <th>2</th>\n",
       "      <td>0.0</td>\n",
       "      <td>0.0</td>\n",
       "      <td>0.0</td>\n",
       "      <td>0.0</td>\n",
       "      <td>0.0</td>\n",
       "      <td>0.000000</td>\n",
       "      <td>0.0</td>\n",
       "      <td>0.0</td>\n",
       "      <td>0.0</td>\n",
       "      <td>0.0</td>\n",
       "      <td>0.0</td>\n",
       "    </tr>\n",
       "    <tr>\n",
       "      <th>3</th>\n",
       "      <td>0.0</td>\n",
       "      <td>0.0</td>\n",
       "      <td>0.0</td>\n",
       "      <td>0.0</td>\n",
       "      <td>0.0</td>\n",
       "      <td>0.000000</td>\n",
       "      <td>0.0</td>\n",
       "      <td>0.0</td>\n",
       "      <td>0.0</td>\n",
       "      <td>0.0</td>\n",
       "      <td>0.0</td>\n",
       "    </tr>\n",
       "    <tr>\n",
       "      <th>4</th>\n",
       "      <td>0.0</td>\n",
       "      <td>0.0</td>\n",
       "      <td>0.0</td>\n",
       "      <td>0.0</td>\n",
       "      <td>0.0</td>\n",
       "      <td>0.000000</td>\n",
       "      <td>0.0</td>\n",
       "      <td>0.0</td>\n",
       "      <td>0.0</td>\n",
       "      <td>0.0</td>\n",
       "      <td>0.0</td>\n",
       "    </tr>\n",
       "    <tr>\n",
       "      <th>...</th>\n",
       "      <td>...</td>\n",
       "      <td>...</td>\n",
       "      <td>...</td>\n",
       "      <td>...</td>\n",
       "      <td>...</td>\n",
       "      <td>...</td>\n",
       "      <td>...</td>\n",
       "      <td>...</td>\n",
       "      <td>...</td>\n",
       "      <td>...</td>\n",
       "      <td>...</td>\n",
       "    </tr>\n",
       "    <tr>\n",
       "      <th>609</th>\n",
       "      <td>0.0</td>\n",
       "      <td>0.0</td>\n",
       "      <td>0.0</td>\n",
       "      <td>0.0</td>\n",
       "      <td>0.0</td>\n",
       "      <td>0.000000</td>\n",
       "      <td>0.0</td>\n",
       "      <td>0.0</td>\n",
       "      <td>0.0</td>\n",
       "      <td>0.0</td>\n",
       "      <td>0.0</td>\n",
       "    </tr>\n",
       "    <tr>\n",
       "      <th>610</th>\n",
       "      <td>0.0</td>\n",
       "      <td>0.0</td>\n",
       "      <td>0.0</td>\n",
       "      <td>0.0</td>\n",
       "      <td>0.0</td>\n",
       "      <td>0.000000</td>\n",
       "      <td>0.0</td>\n",
       "      <td>0.0</td>\n",
       "      <td>0.0</td>\n",
       "      <td>0.0</td>\n",
       "      <td>0.0</td>\n",
       "    </tr>\n",
       "    <tr>\n",
       "      <th>611</th>\n",
       "      <td>0.0</td>\n",
       "      <td>0.0</td>\n",
       "      <td>0.0</td>\n",
       "      <td>0.0</td>\n",
       "      <td>0.0</td>\n",
       "      <td>0.000000</td>\n",
       "      <td>0.0</td>\n",
       "      <td>0.0</td>\n",
       "      <td>0.0</td>\n",
       "      <td>0.0</td>\n",
       "      <td>0.0</td>\n",
       "    </tr>\n",
       "    <tr>\n",
       "      <th>612</th>\n",
       "      <td>0.0</td>\n",
       "      <td>0.0</td>\n",
       "      <td>0.0</td>\n",
       "      <td>0.0</td>\n",
       "      <td>0.0</td>\n",
       "      <td>0.000000</td>\n",
       "      <td>0.0</td>\n",
       "      <td>0.0</td>\n",
       "      <td>0.0</td>\n",
       "      <td>0.0</td>\n",
       "      <td>0.0</td>\n",
       "    </tr>\n",
       "    <tr>\n",
       "      <th>613</th>\n",
       "      <td>0.0</td>\n",
       "      <td>0.0</td>\n",
       "      <td>0.0</td>\n",
       "      <td>0.0</td>\n",
       "      <td>0.0</td>\n",
       "      <td>0.000000</td>\n",
       "      <td>0.0</td>\n",
       "      <td>0.0</td>\n",
       "      <td>0.0</td>\n",
       "      <td>0.0</td>\n",
       "      <td>0.0</td>\n",
       "    </tr>\n",
       "  </tbody>\n",
       "</table>\n",
       "<p>614 rows × 11 columns</p>\n",
       "</div>"
      ],
      "text/plain": [
       "     Gender  Married  Dependents  Education  Self_Employed  LoanAmount  \\\n",
       "0       0.0      0.0         0.0        0.0            0.0    0.162866   \n",
       "1       0.0      0.0         0.0        0.0            0.0    0.000000   \n",
       "2       0.0      0.0         0.0        0.0            0.0    0.000000   \n",
       "3       0.0      0.0         0.0        0.0            0.0    0.000000   \n",
       "4       0.0      0.0         0.0        0.0            0.0    0.000000   \n",
       "..      ...      ...         ...        ...            ...         ...   \n",
       "609     0.0      0.0         0.0        0.0            0.0    0.000000   \n",
       "610     0.0      0.0         0.0        0.0            0.0    0.000000   \n",
       "611     0.0      0.0         0.0        0.0            0.0    0.000000   \n",
       "612     0.0      0.0         0.0        0.0            0.0    0.000000   \n",
       "613     0.0      0.0         0.0        0.0            0.0    0.000000   \n",
       "\n",
       "     Loan_Amount_Term  Credit_History  Property_Area  Loan_Status  income  \n",
       "0                 0.0             0.0            0.0          0.0     0.0  \n",
       "1                 0.0             0.0            0.0          0.0     0.0  \n",
       "2                 0.0             0.0            0.0          0.0     0.0  \n",
       "3                 0.0             0.0            0.0          0.0     0.0  \n",
       "4                 0.0             0.0            0.0          0.0     0.0  \n",
       "..                ...             ...            ...          ...     ...  \n",
       "609               0.0             0.0            0.0          0.0     0.0  \n",
       "610               0.0             0.0            0.0          0.0     0.0  \n",
       "611               0.0             0.0            0.0          0.0     0.0  \n",
       "612               0.0             0.0            0.0          0.0     0.0  \n",
       "613               0.0             0.0            0.0          0.0     0.0  \n",
       "\n",
       "[614 rows x 11 columns]"
      ]
     },
     "execution_count": 52,
     "metadata": {},
     "output_type": "execute_result"
    }
   ],
   "source": [
    "#checking percentage of missing value\n",
    "df.isnull()/len(df)*100"
   ]
  },
  {
   "cell_type": "code",
   "execution_count": 53,
   "id": "5062572e",
   "metadata": {},
   "outputs": [],
   "source": [
    "df=df.dropna(subset=[\"income\",\"LoanAmount\",\"Loan_Amount_Term\",\"Credit_History\"])"
   ]
  },
  {
   "cell_type": "code",
   "execution_count": 54,
   "id": "0e8f8a61",
   "metadata": {},
   "outputs": [
    {
     "data": {
      "text/plain": [
       "Gender              12\n",
       "Married              2\n",
       "Dependents          12\n",
       "Education            0\n",
       "Self_Employed       25\n",
       "LoanAmount           0\n",
       "Loan_Amount_Term     0\n",
       "Credit_History       0\n",
       "Property_Area        0\n",
       "Loan_Status          0\n",
       "income               0\n",
       "dtype: int64"
      ]
     },
     "execution_count": 54,
     "metadata": {},
     "output_type": "execute_result"
    }
   ],
   "source": [
    "df.isnull().sum()"
   ]
  },
  {
   "cell_type": "code",
   "execution_count": 55,
   "id": "d93664fd-0f66-406f-a562-bd2c46907b6b",
   "metadata": {},
   "outputs": [],
   "source": [
    "#categorical variables replae with mode\n",
    "df[\"Gender\"]=df[\"Gender\"].fillna(df[\"Gender\"].mode()[0])\n",
    "df['Married']=df['Married'].fillna(df['Married'].mode()[0])\n",
    "df['Self_Employed']=df['Self_Employed'].fillna(df['Self_Employed'].mode()[0])"
   ]
  },
  {
   "cell_type": "code",
   "execution_count": 56,
   "id": "a08a3039-d9b9-431b-9321-3ff3728f9dcb",
   "metadata": {},
   "outputs": [
    {
     "data": {
      "text/plain": [
       "Gender               0\n",
       "Married              0\n",
       "Dependents          12\n",
       "Education            0\n",
       "Self_Employed        0\n",
       "LoanAmount           0\n",
       "Loan_Amount_Term     0\n",
       "Credit_History       0\n",
       "Property_Area        0\n",
       "Loan_Status          0\n",
       "income               0\n",
       "dtype: int64"
      ]
     },
     "execution_count": 56,
     "metadata": {},
     "output_type": "execute_result"
    }
   ],
   "source": [
    "df.isnull().sum()"
   ]
  },
  {
   "cell_type": "code",
   "execution_count": 57,
   "id": "d308ed38-a818-4910-b104-2e6acff3fd77",
   "metadata": {},
   "outputs": [],
   "source": [
    "df['Dependents']=df['Dependents'].fillna(0)"
   ]
  },
  {
   "cell_type": "code",
   "execution_count": 58,
   "id": "f1f91206-c096-449a-8a4e-0c0861c27304",
   "metadata": {},
   "outputs": [
    {
     "data": {
      "text/plain": [
       "Gender              0\n",
       "Married             0\n",
       "Dependents          0\n",
       "Education           0\n",
       "Self_Employed       0\n",
       "LoanAmount          0\n",
       "Loan_Amount_Term    0\n",
       "Credit_History      0\n",
       "Property_Area       0\n",
       "Loan_Status         0\n",
       "income              0\n",
       "dtype: int64"
      ]
     },
     "execution_count": 58,
     "metadata": {},
     "output_type": "execute_result"
    }
   ],
   "source": [
    "df.isnull().sum()"
   ]
  },
  {
   "cell_type": "code",
   "execution_count": 59,
   "id": "b47848d6-2be9-405e-8f38-ae4098a84660",
   "metadata": {},
   "outputs": [
    {
     "data": {
      "text/html": [
       "<div>\n",
       "<style scoped>\n",
       "    .dataframe tbody tr th:only-of-type {\n",
       "        vertical-align: middle;\n",
       "    }\n",
       "\n",
       "    .dataframe tbody tr th {\n",
       "        vertical-align: top;\n",
       "    }\n",
       "\n",
       "    .dataframe thead th {\n",
       "        text-align: right;\n",
       "    }\n",
       "</style>\n",
       "<table border=\"1\" class=\"dataframe\">\n",
       "  <thead>\n",
       "    <tr style=\"text-align: right;\">\n",
       "      <th></th>\n",
       "      <th>Gender</th>\n",
       "      <th>Married</th>\n",
       "      <th>Dependents</th>\n",
       "      <th>Education</th>\n",
       "      <th>Self_Employed</th>\n",
       "      <th>LoanAmount</th>\n",
       "      <th>Loan_Amount_Term</th>\n",
       "      <th>Credit_History</th>\n",
       "      <th>Property_Area</th>\n",
       "      <th>Loan_Status</th>\n",
       "      <th>income</th>\n",
       "    </tr>\n",
       "  </thead>\n",
       "  <tbody>\n",
       "    <tr>\n",
       "      <th>1</th>\n",
       "      <td>Male</td>\n",
       "      <td>Yes</td>\n",
       "      <td>1</td>\n",
       "      <td>Graduate</td>\n",
       "      <td>No</td>\n",
       "      <td>128.0</td>\n",
       "      <td>360.0</td>\n",
       "      <td>1.0</td>\n",
       "      <td>Rural</td>\n",
       "      <td>N</td>\n",
       "      <td>6091.0</td>\n",
       "    </tr>\n",
       "    <tr>\n",
       "      <th>2</th>\n",
       "      <td>Male</td>\n",
       "      <td>Yes</td>\n",
       "      <td>0</td>\n",
       "      <td>Graduate</td>\n",
       "      <td>Yes</td>\n",
       "      <td>66.0</td>\n",
       "      <td>360.0</td>\n",
       "      <td>1.0</td>\n",
       "      <td>Urban</td>\n",
       "      <td>Y</td>\n",
       "      <td>3000.0</td>\n",
       "    </tr>\n",
       "    <tr>\n",
       "      <th>3</th>\n",
       "      <td>Male</td>\n",
       "      <td>Yes</td>\n",
       "      <td>0</td>\n",
       "      <td>Not Graduate</td>\n",
       "      <td>No</td>\n",
       "      <td>120.0</td>\n",
       "      <td>360.0</td>\n",
       "      <td>1.0</td>\n",
       "      <td>Urban</td>\n",
       "      <td>Y</td>\n",
       "      <td>4941.0</td>\n",
       "    </tr>\n",
       "    <tr>\n",
       "      <th>4</th>\n",
       "      <td>Male</td>\n",
       "      <td>No</td>\n",
       "      <td>0</td>\n",
       "      <td>Graduate</td>\n",
       "      <td>No</td>\n",
       "      <td>141.0</td>\n",
       "      <td>360.0</td>\n",
       "      <td>1.0</td>\n",
       "      <td>Urban</td>\n",
       "      <td>Y</td>\n",
       "      <td>6000.0</td>\n",
       "    </tr>\n",
       "    <tr>\n",
       "      <th>5</th>\n",
       "      <td>Male</td>\n",
       "      <td>Yes</td>\n",
       "      <td>2</td>\n",
       "      <td>Graduate</td>\n",
       "      <td>Yes</td>\n",
       "      <td>267.0</td>\n",
       "      <td>360.0</td>\n",
       "      <td>1.0</td>\n",
       "      <td>Urban</td>\n",
       "      <td>Y</td>\n",
       "      <td>9613.0</td>\n",
       "    </tr>\n",
       "    <tr>\n",
       "      <th>...</th>\n",
       "      <td>...</td>\n",
       "      <td>...</td>\n",
       "      <td>...</td>\n",
       "      <td>...</td>\n",
       "      <td>...</td>\n",
       "      <td>...</td>\n",
       "      <td>...</td>\n",
       "      <td>...</td>\n",
       "      <td>...</td>\n",
       "      <td>...</td>\n",
       "      <td>...</td>\n",
       "    </tr>\n",
       "    <tr>\n",
       "      <th>609</th>\n",
       "      <td>Female</td>\n",
       "      <td>No</td>\n",
       "      <td>0</td>\n",
       "      <td>Graduate</td>\n",
       "      <td>No</td>\n",
       "      <td>71.0</td>\n",
       "      <td>360.0</td>\n",
       "      <td>1.0</td>\n",
       "      <td>Rural</td>\n",
       "      <td>Y</td>\n",
       "      <td>2900.0</td>\n",
       "    </tr>\n",
       "    <tr>\n",
       "      <th>610</th>\n",
       "      <td>Male</td>\n",
       "      <td>Yes</td>\n",
       "      <td>3+</td>\n",
       "      <td>Graduate</td>\n",
       "      <td>No</td>\n",
       "      <td>40.0</td>\n",
       "      <td>180.0</td>\n",
       "      <td>1.0</td>\n",
       "      <td>Rural</td>\n",
       "      <td>Y</td>\n",
       "      <td>4106.0</td>\n",
       "    </tr>\n",
       "    <tr>\n",
       "      <th>611</th>\n",
       "      <td>Male</td>\n",
       "      <td>Yes</td>\n",
       "      <td>1</td>\n",
       "      <td>Graduate</td>\n",
       "      <td>No</td>\n",
       "      <td>253.0</td>\n",
       "      <td>360.0</td>\n",
       "      <td>1.0</td>\n",
       "      <td>Urban</td>\n",
       "      <td>Y</td>\n",
       "      <td>8312.0</td>\n",
       "    </tr>\n",
       "    <tr>\n",
       "      <th>612</th>\n",
       "      <td>Male</td>\n",
       "      <td>Yes</td>\n",
       "      <td>2</td>\n",
       "      <td>Graduate</td>\n",
       "      <td>No</td>\n",
       "      <td>187.0</td>\n",
       "      <td>360.0</td>\n",
       "      <td>1.0</td>\n",
       "      <td>Urban</td>\n",
       "      <td>Y</td>\n",
       "      <td>7583.0</td>\n",
       "    </tr>\n",
       "    <tr>\n",
       "      <th>613</th>\n",
       "      <td>Female</td>\n",
       "      <td>No</td>\n",
       "      <td>0</td>\n",
       "      <td>Graduate</td>\n",
       "      <td>Yes</td>\n",
       "      <td>133.0</td>\n",
       "      <td>360.0</td>\n",
       "      <td>0.0</td>\n",
       "      <td>Semiurban</td>\n",
       "      <td>N</td>\n",
       "      <td>4583.0</td>\n",
       "    </tr>\n",
       "  </tbody>\n",
       "</table>\n",
       "<p>529 rows × 11 columns</p>\n",
       "</div>"
      ],
      "text/plain": [
       "     Gender Married Dependents     Education Self_Employed  LoanAmount  \\\n",
       "1      Male     Yes          1      Graduate            No       128.0   \n",
       "2      Male     Yes          0      Graduate           Yes        66.0   \n",
       "3      Male     Yes          0  Not Graduate            No       120.0   \n",
       "4      Male      No          0      Graduate            No       141.0   \n",
       "5      Male     Yes          2      Graduate           Yes       267.0   \n",
       "..      ...     ...        ...           ...           ...         ...   \n",
       "609  Female      No          0      Graduate            No        71.0   \n",
       "610    Male     Yes         3+      Graduate            No        40.0   \n",
       "611    Male     Yes          1      Graduate            No       253.0   \n",
       "612    Male     Yes          2      Graduate            No       187.0   \n",
       "613  Female      No          0      Graduate           Yes       133.0   \n",
       "\n",
       "     Loan_Amount_Term  Credit_History Property_Area Loan_Status  income  \n",
       "1               360.0             1.0         Rural           N  6091.0  \n",
       "2               360.0             1.0         Urban           Y  3000.0  \n",
       "3               360.0             1.0         Urban           Y  4941.0  \n",
       "4               360.0             1.0         Urban           Y  6000.0  \n",
       "5               360.0             1.0         Urban           Y  9613.0  \n",
       "..                ...             ...           ...         ...     ...  \n",
       "609             360.0             1.0         Rural           Y  2900.0  \n",
       "610             180.0             1.0         Rural           Y  4106.0  \n",
       "611             360.0             1.0         Urban           Y  8312.0  \n",
       "612             360.0             1.0         Urban           Y  7583.0  \n",
       "613             360.0             0.0     Semiurban           N  4583.0  \n",
       "\n",
       "[529 rows x 11 columns]"
      ]
     },
     "execution_count": 59,
     "metadata": {},
     "output_type": "execute_result"
    }
   ],
   "source": [
    "df"
   ]
  },
  {
   "cell_type": "code",
   "execution_count": 60,
   "id": "3ba89885-354b-47d2-b357-cfa7c89d9c34",
   "metadata": {},
   "outputs": [
    {
     "data": {
      "text/plain": [
       "array(['1', '0', '2', '3+', 0], dtype=object)"
      ]
     },
     "execution_count": 60,
     "metadata": {},
     "output_type": "execute_result"
    }
   ],
   "source": [
    "df['Dependents'].unique()"
   ]
  },
  {
   "cell_type": "code",
   "execution_count": 61,
   "id": "40b7c63e-0c40-4b37-bb92-1e17a2e3b512",
   "metadata": {},
   "outputs": [],
   "source": [
    "df['Dependents']=df['Dependents'].replace({'1':1,'0':0,'3+':3,'2':2})"
   ]
  },
  {
   "cell_type": "code",
   "execution_count": 62,
   "id": "906abf96-6723-48d5-9e18-082aea11f649",
   "metadata": {},
   "outputs": [
    {
     "data": {
      "text/plain": [
       "array([1, 0, 2, 3], dtype=int64)"
      ]
     },
     "execution_count": 62,
     "metadata": {},
     "output_type": "execute_result"
    }
   ],
   "source": [
    "df['Dependents'].unique()"
   ]
  },
  {
   "cell_type": "code",
   "execution_count": 63,
   "id": "c6f30a05-7910-4d52-8473-69d3c38b7b62",
   "metadata": {},
   "outputs": [
    {
     "data": {
      "text/html": [
       "<div>\n",
       "<style scoped>\n",
       "    .dataframe tbody tr th:only-of-type {\n",
       "        vertical-align: middle;\n",
       "    }\n",
       "\n",
       "    .dataframe tbody tr th {\n",
       "        vertical-align: top;\n",
       "    }\n",
       "\n",
       "    .dataframe thead th {\n",
       "        text-align: right;\n",
       "    }\n",
       "</style>\n",
       "<table border=\"1\" class=\"dataframe\">\n",
       "  <thead>\n",
       "    <tr style=\"text-align: right;\">\n",
       "      <th></th>\n",
       "      <th>Gender</th>\n",
       "      <th>Married</th>\n",
       "      <th>Dependents</th>\n",
       "      <th>Education</th>\n",
       "      <th>Self_Employed</th>\n",
       "      <th>LoanAmount</th>\n",
       "      <th>Loan_Amount_Term</th>\n",
       "      <th>Credit_History</th>\n",
       "      <th>Property_Area</th>\n",
       "      <th>Loan_Status</th>\n",
       "      <th>income</th>\n",
       "    </tr>\n",
       "  </thead>\n",
       "  <tbody>\n",
       "    <tr>\n",
       "      <th>1</th>\n",
       "      <td>Male</td>\n",
       "      <td>Yes</td>\n",
       "      <td>1</td>\n",
       "      <td>Graduate</td>\n",
       "      <td>No</td>\n",
       "      <td>128.0</td>\n",
       "      <td>360.0</td>\n",
       "      <td>1.0</td>\n",
       "      <td>Rural</td>\n",
       "      <td>N</td>\n",
       "      <td>6091.0</td>\n",
       "    </tr>\n",
       "    <tr>\n",
       "      <th>2</th>\n",
       "      <td>Male</td>\n",
       "      <td>Yes</td>\n",
       "      <td>0</td>\n",
       "      <td>Graduate</td>\n",
       "      <td>Yes</td>\n",
       "      <td>66.0</td>\n",
       "      <td>360.0</td>\n",
       "      <td>1.0</td>\n",
       "      <td>Urban</td>\n",
       "      <td>Y</td>\n",
       "      <td>3000.0</td>\n",
       "    </tr>\n",
       "    <tr>\n",
       "      <th>3</th>\n",
       "      <td>Male</td>\n",
       "      <td>Yes</td>\n",
       "      <td>0</td>\n",
       "      <td>Not Graduate</td>\n",
       "      <td>No</td>\n",
       "      <td>120.0</td>\n",
       "      <td>360.0</td>\n",
       "      <td>1.0</td>\n",
       "      <td>Urban</td>\n",
       "      <td>Y</td>\n",
       "      <td>4941.0</td>\n",
       "    </tr>\n",
       "    <tr>\n",
       "      <th>4</th>\n",
       "      <td>Male</td>\n",
       "      <td>No</td>\n",
       "      <td>0</td>\n",
       "      <td>Graduate</td>\n",
       "      <td>No</td>\n",
       "      <td>141.0</td>\n",
       "      <td>360.0</td>\n",
       "      <td>1.0</td>\n",
       "      <td>Urban</td>\n",
       "      <td>Y</td>\n",
       "      <td>6000.0</td>\n",
       "    </tr>\n",
       "    <tr>\n",
       "      <th>5</th>\n",
       "      <td>Male</td>\n",
       "      <td>Yes</td>\n",
       "      <td>2</td>\n",
       "      <td>Graduate</td>\n",
       "      <td>Yes</td>\n",
       "      <td>267.0</td>\n",
       "      <td>360.0</td>\n",
       "      <td>1.0</td>\n",
       "      <td>Urban</td>\n",
       "      <td>Y</td>\n",
       "      <td>9613.0</td>\n",
       "    </tr>\n",
       "    <tr>\n",
       "      <th>...</th>\n",
       "      <td>...</td>\n",
       "      <td>...</td>\n",
       "      <td>...</td>\n",
       "      <td>...</td>\n",
       "      <td>...</td>\n",
       "      <td>...</td>\n",
       "      <td>...</td>\n",
       "      <td>...</td>\n",
       "      <td>...</td>\n",
       "      <td>...</td>\n",
       "      <td>...</td>\n",
       "    </tr>\n",
       "    <tr>\n",
       "      <th>609</th>\n",
       "      <td>Female</td>\n",
       "      <td>No</td>\n",
       "      <td>0</td>\n",
       "      <td>Graduate</td>\n",
       "      <td>No</td>\n",
       "      <td>71.0</td>\n",
       "      <td>360.0</td>\n",
       "      <td>1.0</td>\n",
       "      <td>Rural</td>\n",
       "      <td>Y</td>\n",
       "      <td>2900.0</td>\n",
       "    </tr>\n",
       "    <tr>\n",
       "      <th>610</th>\n",
       "      <td>Male</td>\n",
       "      <td>Yes</td>\n",
       "      <td>3</td>\n",
       "      <td>Graduate</td>\n",
       "      <td>No</td>\n",
       "      <td>40.0</td>\n",
       "      <td>180.0</td>\n",
       "      <td>1.0</td>\n",
       "      <td>Rural</td>\n",
       "      <td>Y</td>\n",
       "      <td>4106.0</td>\n",
       "    </tr>\n",
       "    <tr>\n",
       "      <th>611</th>\n",
       "      <td>Male</td>\n",
       "      <td>Yes</td>\n",
       "      <td>1</td>\n",
       "      <td>Graduate</td>\n",
       "      <td>No</td>\n",
       "      <td>253.0</td>\n",
       "      <td>360.0</td>\n",
       "      <td>1.0</td>\n",
       "      <td>Urban</td>\n",
       "      <td>Y</td>\n",
       "      <td>8312.0</td>\n",
       "    </tr>\n",
       "    <tr>\n",
       "      <th>612</th>\n",
       "      <td>Male</td>\n",
       "      <td>Yes</td>\n",
       "      <td>2</td>\n",
       "      <td>Graduate</td>\n",
       "      <td>No</td>\n",
       "      <td>187.0</td>\n",
       "      <td>360.0</td>\n",
       "      <td>1.0</td>\n",
       "      <td>Urban</td>\n",
       "      <td>Y</td>\n",
       "      <td>7583.0</td>\n",
       "    </tr>\n",
       "    <tr>\n",
       "      <th>613</th>\n",
       "      <td>Female</td>\n",
       "      <td>No</td>\n",
       "      <td>0</td>\n",
       "      <td>Graduate</td>\n",
       "      <td>Yes</td>\n",
       "      <td>133.0</td>\n",
       "      <td>360.0</td>\n",
       "      <td>0.0</td>\n",
       "      <td>Semiurban</td>\n",
       "      <td>N</td>\n",
       "      <td>4583.0</td>\n",
       "    </tr>\n",
       "  </tbody>\n",
       "</table>\n",
       "<p>529 rows × 11 columns</p>\n",
       "</div>"
      ],
      "text/plain": [
       "     Gender Married  Dependents     Education Self_Employed  LoanAmount  \\\n",
       "1      Male     Yes           1      Graduate            No       128.0   \n",
       "2      Male     Yes           0      Graduate           Yes        66.0   \n",
       "3      Male     Yes           0  Not Graduate            No       120.0   \n",
       "4      Male      No           0      Graduate            No       141.0   \n",
       "5      Male     Yes           2      Graduate           Yes       267.0   \n",
       "..      ...     ...         ...           ...           ...         ...   \n",
       "609  Female      No           0      Graduate            No        71.0   \n",
       "610    Male     Yes           3      Graduate            No        40.0   \n",
       "611    Male     Yes           1      Graduate            No       253.0   \n",
       "612    Male     Yes           2      Graduate            No       187.0   \n",
       "613  Female      No           0      Graduate           Yes       133.0   \n",
       "\n",
       "     Loan_Amount_Term  Credit_History Property_Area Loan_Status  income  \n",
       "1               360.0             1.0         Rural           N  6091.0  \n",
       "2               360.0             1.0         Urban           Y  3000.0  \n",
       "3               360.0             1.0         Urban           Y  4941.0  \n",
       "4               360.0             1.0         Urban           Y  6000.0  \n",
       "5               360.0             1.0         Urban           Y  9613.0  \n",
       "..                ...             ...           ...         ...     ...  \n",
       "609             360.0             1.0         Rural           Y  2900.0  \n",
       "610             180.0             1.0         Rural           Y  4106.0  \n",
       "611             360.0             1.0         Urban           Y  8312.0  \n",
       "612             360.0             1.0         Urban           Y  7583.0  \n",
       "613             360.0             0.0     Semiurban           N  4583.0  \n",
       "\n",
       "[529 rows x 11 columns]"
      ]
     },
     "execution_count": 63,
     "metadata": {},
     "output_type": "execute_result"
    }
   ],
   "source": [
    "df"
   ]
  },
  {
   "cell_type": "markdown",
   "id": "cb03f4d2-9398-4ccb-995b-618d01ea6046",
   "metadata": {},
   "source": [
    "### outliers treatment\n",
    "# encoding"
   ]
  },
  {
   "cell_type": "code",
   "execution_count": 64,
   "id": "14c2ccbc-7bc6-4731-8195-e478f86bf9f6",
   "metadata": {},
   "outputs": [],
   "source": [
    "df['Gender']=df['Gender'].replace({\"Male\":1,\"Female\":0})\n",
    "df['Married']=df['Married'].replace({'Yes':1,'No':0})\n",
    "df['Education']=df['Education'].replace({'Graduate':1,'Not Graduate':0})\n",
    "df['Self_Employed']=df['Self_Employed'].replace({'Yes':1,'No':0})\n",
    "df['Property_Area']=df['Property_Area'].replace({'Rural':0,'Urban':1,'Semiurban':2})\n",
    "df['Loan_Status']=df['Loan_Status'].replace({'Y':1,'N':0})"
   ]
  },
  {
   "cell_type": "code",
   "execution_count": 65,
   "id": "cd54806b-06f4-4da5-aef9-404778f01b6d",
   "metadata": {},
   "outputs": [
    {
     "data": {
      "text/plain": [
       "income        5.777628\n",
       "LoanAmount    2.607945\n",
       "dtype: float64"
      ]
     },
     "execution_count": 65,
     "metadata": {},
     "output_type": "execute_result"
    }
   ],
   "source": [
    "df[['income','LoanAmount']].skew()"
   ]
  },
  {
   "cell_type": "code",
   "execution_count": 66,
   "id": "167c7dcc-7a90-4bcf-9dc3-469f15f60e5a",
   "metadata": {},
   "outputs": [],
   "source": [
    "#lets apply boxcox transformation to remove skewness\n",
    "from scipy.stats import boxcox\n",
    "df['income'],a=boxcox(df['income'])\n",
    "df['LoanAmount'],c=boxcox(df['LoanAmount'])"
   ]
  },
  {
   "cell_type": "code",
   "execution_count": 67,
   "id": "65ea1ab5-eaff-4559-9f91-5426db7d785d",
   "metadata": {},
   "outputs": [
    {
     "data": {
      "text/plain": [
       "income       -0.027769\n",
       "LoanAmount    0.038289\n",
       "dtype: float64"
      ]
     },
     "execution_count": 67,
     "metadata": {},
     "output_type": "execute_result"
    }
   ],
   "source": [
    "df[['income','LoanAmount']].skew()"
   ]
  },
  {
   "cell_type": "code",
   "execution_count": 68,
   "id": "62d6e529-2013-46c7-a7b4-5f748371bf68",
   "metadata": {},
   "outputs": [],
   "source": [
    "X=df.drop('Loan_Status',axis=1)\n",
    "y=df['Loan_Status']"
   ]
  },
  {
   "cell_type": "markdown",
   "id": "1f525894-96bc-4685-96f7-4704a4d410fe",
   "metadata": {},
   "source": [
    "##### identifying the best random state number"
   ]
  },
  {
   "cell_type": "code",
   "execution_count": 69,
   "id": "3cd7aeda-f536-45a2-997f-53d41c60fd18",
   "metadata": {},
   "outputs": [],
   "source": [
    "Train=[]\n",
    "Test=[]\n",
    "CV=[]\n",
    "for i in range(0,25):\n",
    "    from sklearn.model_selection import train_test_split\n",
    "    X_train,X_test,y_train,y_test=train_test_split(X,y,test_size=0.2,random_state=i)\n",
    "from sklearn.linear_model import LogisticRegression\n",
    "log_model=LogisticRegression()\n",
    "log_model.fit(X_train,y_train)\n",
    "\n",
    "pred_train=log_model.predict(X_train)\n",
    "pred_test=log_model.predict(X_test)\n",
    "\n",
    "from sklearn.metrics import accuracy_score\n",
    "Train.append(accuracy_score(y_train,pred_train))\n",
    "Test.append(accuracy_score(y_test,pred_test))\n",
    "\n",
    "from sklearn.model_selection import cross_val_score\n",
    "CV.append(cross_val_score(log_model,X_train,y_train,cv=5,scoring='accuracy'))\n",
    "\n",
    "em=pd.DataFrame({\"Train\":Train,'Test':Test,'cv':CV})"
   ]
  },
  {
   "cell_type": "code",
   "execution_count": 70,
   "id": "d5f4a1c5-3ca9-4a18-bd53-3b93f6954424",
   "metadata": {},
   "outputs": [],
   "source": [
    "X_train,X_test,y_train,y_test=train_test_split(X,y,random_state=70,train_size=0.8)"
   ]
  },
  {
   "cell_type": "markdown",
   "id": "028324d7-d607-4065-9e9d-94cc94e6fe1b",
   "metadata": {},
   "source": [
    "## machine learning modelling & evalution"
   ]
  },
  {
   "cell_type": "markdown",
   "id": "250ef077-feec-4477-afa1-82207ffdf1ab",
   "metadata": {},
   "source": [
    "#### 1.logistic regression"
   ]
  },
  {
   "cell_type": "code",
   "execution_count": 71,
   "id": "291c9ba1-8018-4b5e-a5fb-ef6b1fdf77b0",
   "metadata": {},
   "outputs": [
    {
     "name": "stdout",
     "output_type": "stream",
     "text": [
      "train acc: 0.8226950354609929\n",
      "test acc: 0.7830188679245284\n",
      "cv: 0.8227731092436976\n"
     ]
    }
   ],
   "source": [
    "from sklearn.linear_model import LogisticRegression\n",
    "log_modell=LogisticRegression()\n",
    "log_modell.fit(X_train,y_train)\n",
    "\n",
    "pred_train=log_modell.predict(X_train)\n",
    "pred_test=log_modell.predict(X_test)\n",
    "\n",
    "print('train acc:',accuracy_score(pred_train,y_train))\n",
    "print('test acc:',accuracy_score(pred_test,y_test))\n",
    "print('cv:',cross_val_score(log_modell,X_train,y_train,scoring='accuracy',cv=5).mean())"
   ]
  },
  {
   "cell_type": "markdown",
   "id": "39557be7-60ee-49e2-acea-3e3c4cbe806e",
   "metadata": {},
   "source": []
  },
  {
   "cell_type": "markdown",
   "id": "68039dfc-3b18-4f6a-969f-338f7a000614",
   "metadata": {},
   "source": [
    "# 2.KNN"
   ]
  },
  {
   "cell_type": "code",
   "execution_count": 87,
   "id": "b1ed78b3-29b4-4b9e-aa05-55ea1f2e4bba",
   "metadata": {},
   "outputs": [],
   "source": [
    "from sklearn.neighbors import KNeighborsClassifier\n",
    "estimator=KNeighborsClassifier()\n",
    "param_grid={'n_neighbors':list(range(1,11))}\n",
    "\n",
    "from sklearn.model_selection import GridSearchCV\n",
    "knn=GridSearchCV(estimator,param_grid,scoring='accuracy',cv=5)\n",
    "knn.fit(X_train,y_train)\n",
    "knn_model=knn.best_estimator_"
   ]
  },
  {
   "cell_type": "code",
   "execution_count": 91,
   "id": "d0cb91aa-d34c-4889-bb57-6d0f1b23950b",
   "metadata": {},
   "outputs": [
    {
     "name": "stdout",
     "output_type": "stream",
     "text": [
      "train acc: 0.8439716312056738\n",
      "test acc: 0.7264150943396226\n",
      "cv: 0.7376750700280112\n"
     ]
    }
   ],
   "source": [
    "pred_train=knn_model.predict(X_train)\n",
    "pred_test=knn_model.predict(X_test)\n",
    "\n",
    "print('train acc:',accuracy_score(y_train,pred_train))\n",
    "print('test acc:',accuracy_score(y_test,pred_test))\n",
    "print('cv:',cross_val_score(knn_model,X_train,y_train,cv=5,scoring='accuracy').mean())"
   ]
  },
  {
   "cell_type": "markdown",
   "id": "afb76f64-5a8d-4fa4-8425-f72549441519",
   "metadata": {},
   "source": [
    "### 3.support vector machine (svm)"
   ]
  },
  {
   "cell_type": "code",
   "execution_count": null,
   "id": "8e75f8cc-65be-4df6-b9c0-dad0fe12d5b1",
   "metadata": {},
   "outputs": [],
   "source": [
    "from sklearn.svm import SVC\n",
    "\n",
    "estimator=SVC()\n",
    "param_grid={'C':[0.01,0.1,1],'kernel':['linear','rbf','sigmoid','poly']}\n",
    "\n",
    "from sklearn.model_selection import GridSearchCV\n",
    "svm_grid=GridSearchCV(estimator,param_grid,scoring='accuracy',cv=5)\n",
    "svm_grid.fit(X_train,y_train)\n",
    "svm_model=svm_grid.best_estimator_\n",
    "pred_train=svm_model.predict(X_train)\n",
    "pred_test=svm_model.predict(X_test)"
   ]
  },
  {
   "cell_type": "markdown",
   "id": "2e538b5a-5d4e-4036-947c-8b59ddb91f13",
   "metadata": {},
   "source": []
  },
  {
   "cell_type": "code",
   "execution_count": null,
   "id": "10518437-36f8-4137-b98f-c4315dc3f8a1",
   "metadata": {},
   "outputs": [],
   "source": [
    "print('train acc:',accuracy_score(y_train,pred_train))\n",
    "print('test acc:',accuracy_score(y_test,pred_test))\n",
    "print('cv:',cross_val_score(svm_model,X_train,y_train,cv=5,scoring='accuracy').mean())"
   ]
  },
  {
   "cell_type": "markdown",
   "id": "93e9b3d1-2ab3-4954-a0f8-bc7286dbc4a0",
   "metadata": {},
   "source": [
    "### 4.decision tree classifier"
   ]
  },
  {
   "cell_type": "code",
   "execution_count": null,
   "id": "f3fb86d3-f01a-4adf-aa24-b0042702fb8a",
   "metadata": {},
   "outputs": [],
   "source": [
    "from sklearn.tree import DecisionTreeClassifier\n",
    "estimator=DecisionTreeClassifier(random_state=70)\n",
    "param_grid={'criterion':['gini','entropy'],\n",
    "            'max_depth':list(range(1,16))}\n",
    "\n",
    "from sklearn.model_selection import GridSearchCV\n",
    "dt_grid=GridSearchCV(estimator,param_grid,scoring='accuracy',cv=5)\n",
    "dt_grid.fit(X_train,y_train)\n",
    "\n",
    "#identify the best mopdel\n",
    "dt=dt_grid.best_estimator_\n",
    "\n",
    "#identify the importance of each feature\n",
    "dt_fea=dt.feature_importances_\n",
    "\n",
    "#identify the features where the feature importance is greater than 0 \n",
    "index=[i for i,x in enumerate(dt_fea)if x>0]\n",
    "#crete new dataset with importqnce features\n",
    "X_train_dt=X_train.iloc[:,index]\n",
    "X_test_dt=X_test.iloc[:,index]\n",
    "#train with best model & with important features\n",
    "dt.fit(X_train_dt,y_train)\n",
    "pred_train=dt.predict(X_train_dt)\n",
    "pred_test=dt.predict(X_test_dt)\n",
    "\n",
    "#EValute the best model\n",
    "print('train acc:',accuracy_score(y_train,pred_train))\n",
    "print('test acc:',accuracy_score(y_test,pred_test))\n",
    "print('cv:',cross_val_score(dt,X_train_dt,y_train,cv=5,scoring='accuracy').mean())"
   ]
  },
  {
   "cell_type": "code",
   "execution_count": null,
   "id": "b3b74724-4a5b-4d82-a18f-491feca32315",
   "metadata": {},
   "outputs": [],
   "source": [
    "dt_grid.best_estimator_"
   ]
  },
  {
   "cell_type": "code",
   "execution_count": null,
   "id": "895310ed-8322-4e99-8e9b-418506cb6ac0",
   "metadata": {
    "scrolled": true
   },
   "outputs": [],
   "source": [
    "X_train_dt"
   ]
  },
  {
   "cell_type": "markdown",
   "id": "1d1bd1b9-1374-4a19-9586-f82ec03d7ee5",
   "metadata": {},
   "source": [
    "## 5.randomforest classifier"
   ]
  },
  {
   "cell_type": "code",
   "execution_count": null,
   "id": "2f9fc03e-1a2d-4e72-87ae-bc5dcd36474c",
   "metadata": {},
   "outputs": [],
   "source": [
    "from sklearn.ensemble import RandomForestClassifier\n",
    "estimator = RandomForestClassifier(random_state=70)\n",
    "param_grid={'n_estimators':list(range(1,51))}\n",
    "\n",
    "from sklearn.model_selection import GridSearchCV\n",
    "RF_grid=GridSearchCV(estimator,param_grid,scoring='accuracy',cv=5)\n",
    "RF_grid.fit(X_train,y_train)\n",
    "\n",
    "rf=RF_grid.best_estimator_\n",
    "rf_fi=rf.feature_importances_\n",
    "index=[i for i ,x in enumerate(rf_fi) if x>0]\n",
    "\n",
    "X_train_rf=X_train.iloc[:,index]\n",
    "X_test_rf=X_test.iloc[:,index]\n",
    "\n",
    "rf.fit(X_train_rf,y_train)\n",
    "\n",
    "pred_train=rf.predict(X_train_rf)\n",
    "pred_test=rf.predict(X_test_rf)\n",
    "\n",
    "print('train accuracy:',accuracy_score(y_train,pred_train))\n",
    "print('test accuracy:',accuracy_score(y_test,pred_test))\n",
    "print('cv:',cross_val_score(rf,X_train,y_train,cv=5,scoring='accuracy').mean())"
   ]
  },
  {
   "cell_type": "markdown",
   "id": "ff2274fa-353e-4fd1-acb3-9150ecb590f0",
   "metadata": {},
   "source": [
    "# 6.adaboost classifier"
   ]
  },
  {
   "cell_type": "code",
   "execution_count": null,
   "id": "e0428f8e-4c8d-49b1-aee0-cef011bed784",
   "metadata": {},
   "outputs": [],
   "source": [
    "from sklearn.ensemble import AdaBoostClassifier\n",
    "estimator=AdaBoostClassifier(random_state=70)\n",
    "param_grid={'n_estimators':list(range(1,51))}\n",
    "\n",
    "from sklearn.model_selection import GridSearchCV\n",
    "ab_grid=GridSearchCV(estimator,param_grid,scoring='accuracy')\n",
    "ab_grid.fit(X_train,y_train)\n",
    "ab=ab_grid.best_estimator_\n",
    "ab_fi=ab.feature_importances_\n",
    "index=[i for i,x in enumerate(ab_fi) if x>0]\n",
    "\n",
    "X_train_ab=X_train.iloc[:,index]\n",
    "X_test_ab=X_test.iloc[:,index]\n",
    "\n",
    "ab.fit(X_train_ab,y_train)\n",
    "pred_train=ab.predict(X_train_ab)\n",
    "pred_test=ab.predict(X_test_ab)\n",
    "\n",
    "print('train accuracy:',accuracy_score(y_train,pred_train))\n",
    "print('test accuracy:',accuracy_score(y_test,pred_test))\n",
    "print('cv:',cross_val_score(ab,X_train_ab,y_train,cv=5,scoring='accuracy').mean())\n",
    "      "
   ]
  },
  {
   "cell_type": "markdown",
   "id": "98a9c503-c0f8-409a-b284-6f661e9a8845",
   "metadata": {},
   "source": [
    "## 7.gradient boost classifier"
   ]
  },
  {
   "cell_type": "code",
   "execution_count": null,
   "id": "caa7ac19-8fdc-4cb5-a0b1-640e648d2714",
   "metadata": {},
   "outputs": [],
   "source": []
  },
  {
   "cell_type": "code",
   "execution_count": 74,
   "id": "4dc23800-934c-4a09-b952-622af0d5a31e",
   "metadata": {},
   "outputs": [
    {
     "name": "stdout",
     "output_type": "stream",
     "text": [
      "train acc: 0.8392434988179669\n",
      "test acc: 0.7735849056603774\n",
      "cv: 0.8250980392156864\n"
     ]
    }
   ],
   "source": [
    "from sklearn.ensemble import GradientBoostingClassifier\n",
    "estimator=GradientBoostingClassifier(random_state=70)\n",
    "param_grid={'n_estimators':list(range(1,10)),\n",
    "            'learning_rate':[0.1,0.2,0.3,0.4,0.5,0.6,0.7,0.8,0.9,1.0]}\n",
    "\n",
    "\n",
    "from sklearn.model_selection import GridSearchCV \n",
    "gb_grid=GridSearchCV(estimator,param_grid,scoring='accuracy',cv=5)\n",
    "gb_grid.fit(X_train,y_train)\n",
    "\n",
    "gb=gb_grid.best_estimator_\n",
    "gb_fea=gb.feature_importances_\n",
    "\n",
    "index=[i for i ,x in enumerate(gb_fea) if x>0]\n",
    "X_train_gb=X_train.iloc[:,index]\n",
    "X_test_gb=X_test.iloc[:,index]\n",
    "\n",
    "gb.fit(X_train_gb,y_train)\n",
    "\n",
    "pred_train=gb.predict(X_train_gb)\n",
    "pred_test=gb.predict(X_test_gb)\n",
    "pred_train=gb.predict(X_train_gb)\n",
    "pred_test=gb.predict(X_test_gb)\n",
    "\n",
    "print('train acc:',accuracy_score(y_train,pred_train))\n",
    "print('test acc:',accuracy_score(y_test,pred_test))\n",
    "print('cv:',cross_val_score(gb,X_train,y_train,cv=5,scoring='accuracy').mean())\n"
   ]
  },
  {
   "cell_type": "markdown",
   "id": "a76d2d74-35cd-4075-8e42-6749f1abdc8e",
   "metadata": {},
   "source": [
    "## 8.XGBoost Classifier"
   ]
  },
  {
   "cell_type": "code",
   "execution_count": 86,
   "id": "d1b77280-5e17-48c6-8394-c1e89ff883fe",
   "metadata": {},
   "outputs": [
    {
     "name": "stdout",
     "output_type": "stream",
     "text": [
      "train accuracy: 0.8652482269503546\n",
      "test accuracy: 0.7641509433962265\n",
      "cv: 0.8297759103641458\n"
     ]
    }
   ],
   "source": [
    "from xgboost import XGBClassifier\n",
    "estimator=XGBClassifier(random_state=70)\n",
    "param_grid={'n_estimators':[10,20,40,100],\n",
    "           'max_depth':[3,4,5],\n",
    "           'gamma':[0,0.15,0.3,0.5,1]}\n",
    "\n",
    "xgb_grid=GridSearchCV(estimator,param_grid,scoring='accuracy',cv=5)\n",
    "xgb_grid.fit(X_train,y_train)\n",
    "xgb=xgb_grid.best_estimator_\n",
    "xgb_fi=xgb.feature_importances_\n",
    "\n",
    "index=[i for i ,x in enumerate(xgb_fi) if x>0]\n",
    "\n",
    "X_train_xgb=X_train.iloc[:,index]\n",
    "X_test_xgb=X_test.iloc[:,index]\n",
    "\n",
    "xgb.fit(X_train_xgb,y_train)\n",
    "pred_train=xgb.predict(X_train_xgb)\n",
    "pred_test=xgb.predict(X_test_xgb)\n",
    "\n",
    "print('train accuracy:',accuracy_score(y_train,pred_train))\n",
    "print('test accuracy:',accuracy_score(y_test,pred_test))\n",
    "print('cv:',cross_val_score(xgb,X_train_xgb,y_train,cv=5,scoring='accuracy').mean())"
   ]
  },
  {
   "cell_type": "code",
   "execution_count": null,
   "id": "fee1d565-1fac-44ee-b103-176b490807dd",
   "metadata": {},
   "outputs": [],
   "source": []
  },
  {
   "cell_type": "code",
   "execution_count": null,
   "id": "79b3f9a4-4e91-43a0-a0bb-013d5009b111",
   "metadata": {},
   "outputs": [],
   "source": []
  },
  {
   "cell_type": "code",
   "execution_count": null,
   "id": "022162d6-b9a1-442e-a5dd-62dba64a50ef",
   "metadata": {},
   "outputs": [],
   "source": []
  },
  {
   "cell_type": "code",
   "execution_count": null,
   "id": "c16b0e79-5e90-4f48-b055-863f044e3370",
   "metadata": {},
   "outputs": [],
   "source": []
  }
 ],
 "metadata": {
  "kernelspec": {
   "display_name": "Python 3 (ipykernel)",
   "language": "python",
   "name": "python3"
  },
  "language_info": {
   "codemirror_mode": {
    "name": "ipython",
    "version": 3
   },
   "file_extension": ".py",
   "mimetype": "text/x-python",
   "name": "python",
   "nbconvert_exporter": "python",
   "pygments_lexer": "ipython3",
   "version": "3.11.7"
  }
 },
 "nbformat": 4,
 "nbformat_minor": 5
}
